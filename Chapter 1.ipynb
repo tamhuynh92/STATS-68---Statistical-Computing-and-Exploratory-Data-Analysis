{
 "cells": [
  {
   "cell_type": "markdown",
   "metadata": {},
   "source": [
    "### 1.1 Getting Started"
   ]
  },
  {
   "cell_type": "markdown",
   "metadata": {},
   "source": [
    "#### 1.1 Preliminaries"
   ]
  },
  {
   "cell_type": "code",
   "execution_count": 2,
   "metadata": {},
   "outputs": [
    {
     "data": {
      "text/html": [
       "<ol class=list-inline>\n",
       "\t<li>109</li>\n",
       "\t<li>65</li>\n",
       "\t<li>22</li>\n",
       "\t<li>3</li>\n",
       "\t<li>1</li>\n",
       "</ol>\n"
      ],
      "text/latex": [
       "\\begin{enumerate*}\n",
       "\\item 109\n",
       "\\item 65\n",
       "\\item 22\n",
       "\\item 3\n",
       "\\item 1\n",
       "\\end{enumerate*}\n"
      ],
      "text/markdown": [
       "1. 109\n",
       "2. 65\n",
       "3. 22\n",
       "4. 3\n",
       "5. 1\n",
       "\n",
       "\n"
      ],
      "text/plain": [
       "[1] 109  65  22   3   1"
      ]
     },
     "metadata": {},
     "output_type": "display_data"
    }
   ],
   "source": [
    "x = c(109, 65, 22, 3, 1)\n",
    "x"
   ]
  },
  {
   "cell_type": "code",
   "execution_count": 4,
   "metadata": {},
   "outputs": [
    {
     "data": {
      "text/html": [
       "<ol class=list-inline>\n",
       "\t<li>109</li>\n",
       "\t<li>65</li>\n",
       "\t<li>22</li>\n",
       "\t<li>3</li>\n",
       "\t<li>1</li>\n",
       "</ol>\n"
      ],
      "text/latex": [
       "\\begin{enumerate*}\n",
       "\\item 109\n",
       "\\item 65\n",
       "\\item 22\n",
       "\\item 3\n",
       "\\item 1\n",
       "\\end{enumerate*}\n"
      ],
      "text/markdown": [
       "1. 109\n",
       "2. 65\n",
       "3. 22\n",
       "4. 3\n",
       "5. 1\n",
       "\n",
       "\n"
      ],
      "text/plain": [
       "[1] 109  65  22   3   1"
      ]
     },
     "metadata": {},
     "output_type": "display_data"
    }
   ],
   "source": [
    "x <- c(109,65,22,3,1)\n",
    "x"
   ]
  },
  {
   "cell_type": "markdown",
   "metadata": {},
   "source": [
    "Example 1.1: The average annual temperature in New Naven, CT, were recorded in degrees Fahrenheits, as\n",
    "\n",
    "|Year|1968|1969|1970|1971|\n",
    "|-|-|-|-|-|\n",
    "|Mean temperature|51.9|51.8|51.9|53|"
   ]
  },
  {
   "cell_type": "code",
   "execution_count": 7,
   "metadata": {},
   "outputs": [
    {
     "data": {
      "text/html": [
       "<ol class=list-inline>\n",
       "\t<li>-3.16666666666667</li>\n",
       "\t<li>-3.22222222222222</li>\n",
       "\t<li>-3.16666666666667</li>\n",
       "\t<li>-2.55555555555555</li>\n",
       "</ol>\n"
      ],
      "text/latex": [
       "\\begin{enumerate*}\n",
       "\\item -3.16666666666667\n",
       "\\item -3.22222222222222\n",
       "\\item -3.16666666666667\n",
       "\\item -2.55555555555555\n",
       "\\end{enumerate*}\n"
      ],
      "text/markdown": [
       "1. -3.16666666666667\n",
       "2. -3.22222222222222\n",
       "3. -3.16666666666667\n",
       "4. -2.55555555555555\n",
       "\n",
       "\n"
      ],
      "text/plain": [
       "[1] -3.166667 -3.222222 -3.166667 -2.555556"
      ]
     },
     "metadata": {},
     "output_type": "display_data"
    }
   ],
   "source": [
    "temps = c(51.9, 51.8, 51.9, 53)\n",
    "(5/9)*temps - 32"
   ]
  },
  {
   "cell_type": "markdown",
   "metadata": {},
   "source": [
    "Example 1.2: Height of the election winner in the Electoral COllege and height of the main opponent in the US presidential elections of 1948 to 2008"
   ]
  },
  {
   "cell_type": "code",
   "execution_count": 10,
   "metadata": {},
   "outputs": [
    {
     "data": {
      "text/html": [
       "16"
      ],
      "text/latex": [
       "16"
      ],
      "text/markdown": [
       "16"
      ],
      "text/plain": [
       "[1] 16"
      ]
     },
     "metadata": {},
     "output_type": "display_data"
    }
   ],
   "source": [
    "winner = c(185, 182, 182, 188,188,188,185,185,177,182,182,193,183,179,179,175)\n",
    "opponent = c(175,193,185,187,188,173,180,177,183,185,180,180,182,178,178,173)\n",
    "\n",
    "length(winner)"
   ]
  },
  {
   "cell_type": "code",
   "execution_count": 11,
   "metadata": {},
   "outputs": [],
   "source": [
    "year = seq(from = 2008, to = 1948, by = -4)"
   ]
  },
  {
   "cell_type": "code",
   "execution_count": 14,
   "metadata": {},
   "outputs": [
    {
     "data": {
      "text/html": [
       "<ol class=list-inline>\n",
       "\t<li>185</li>\n",
       "\t<li>182</li>\n",
       "\t<li>182</li>\n",
       "\t<li>189</li>\n",
       "\t<li>189</li>\n",
       "\t<li>188</li>\n",
       "\t<li>185</li>\n",
       "\t<li>185</li>\n",
       "\t<li>177</li>\n",
       "\t<li>182</li>\n",
       "\t<li>182</li>\n",
       "\t<li>193</li>\n",
       "\t<li>183</li>\n",
       "\t<li>179</li>\n",
       "\t<li>179</li>\n",
       "\t<li>175</li>\n",
       "</ol>\n"
      ],
      "text/latex": [
       "\\begin{enumerate*}\n",
       "\\item 185\n",
       "\\item 182\n",
       "\\item 182\n",
       "\\item 189\n",
       "\\item 189\n",
       "\\item 188\n",
       "\\item 185\n",
       "\\item 185\n",
       "\\item 177\n",
       "\\item 182\n",
       "\\item 182\n",
       "\\item 193\n",
       "\\item 183\n",
       "\\item 179\n",
       "\\item 179\n",
       "\\item 175\n",
       "\\end{enumerate*}\n"
      ],
      "text/markdown": [
       "1. 185\n",
       "2. 182\n",
       "3. 182\n",
       "4. 189\n",
       "5. 189\n",
       "6. 188\n",
       "7. 185\n",
       "8. 185\n",
       "9. 177\n",
       "10. 182\n",
       "11. 182\n",
       "12. 193\n",
       "13. 183\n",
       "14. 179\n",
       "15. 179\n",
       "16. 175\n",
       "\n",
       "\n"
      ],
      "text/plain": [
       " [1] 185 182 182 189 189 188 185 185 177 182 182 193 183 179 179 175"
      ]
     },
     "metadata": {},
     "output_type": "display_data"
    }
   ],
   "source": [
    "winner[4] = 189\n",
    "winner[5] = 189\n",
    "winner"
   ]
  },
  {
   "cell_type": "code",
   "execution_count": 15,
   "metadata": {},
   "outputs": [
    {
     "data": {
      "text/html": [
       "183.4375"
      ],
      "text/latex": [
       "183.4375"
      ],
      "text/markdown": [
       "183.4375"
      ],
      "text/plain": [
       "[1] 183.4375"
      ]
     },
     "metadata": {},
     "output_type": "display_data"
    }
   ],
   "source": [
    "mean(winner)"
   ]
  },
  {
   "cell_type": "code",
   "execution_count": 16,
   "metadata": {},
   "outputs": [
    {
     "data": {
      "text/html": [
       "181.0625"
      ],
      "text/latex": [
       "181.0625"
      ],
      "text/markdown": [
       "181.0625"
      ],
      "text/plain": [
       "[1] 181.0625"
      ]
     },
     "metadata": {},
     "output_type": "display_data"
    }
   ],
   "source": [
    "mean(opponent)"
   ]
  },
  {
   "cell_type": "code",
   "execution_count": 17,
   "metadata": {},
   "outputs": [
    {
     "data": {
      "text/html": [
       "<ol class=list-inline>\n",
       "\t<li>10</li>\n",
       "\t<li>-11</li>\n",
       "\t<li>-3</li>\n",
       "\t<li>2</li>\n",
       "\t<li>1</li>\n",
       "\t<li>15</li>\n",
       "\t<li>5</li>\n",
       "\t<li>8</li>\n",
       "\t<li>-6</li>\n",
       "\t<li>-3</li>\n",
       "\t<li>2</li>\n",
       "\t<li>13</li>\n",
       "\t<li>1</li>\n",
       "\t<li>1</li>\n",
       "\t<li>1</li>\n",
       "\t<li>2</li>\n",
       "</ol>\n"
      ],
      "text/latex": [
       "\\begin{enumerate*}\n",
       "\\item 10\n",
       "\\item -11\n",
       "\\item -3\n",
       "\\item 2\n",
       "\\item 1\n",
       "\\item 15\n",
       "\\item 5\n",
       "\\item 8\n",
       "\\item -6\n",
       "\\item -3\n",
       "\\item 2\n",
       "\\item 13\n",
       "\\item 1\n",
       "\\item 1\n",
       "\\item 1\n",
       "\\item 2\n",
       "\\end{enumerate*}\n"
      ],
      "text/markdown": [
       "1. 10\n",
       "2. -11\n",
       "3. -3\n",
       "4. 2\n",
       "5. 1\n",
       "6. 15\n",
       "7. 5\n",
       "8. 8\n",
       "9. -6\n",
       "10. -3\n",
       "11. 2\n",
       "12. 13\n",
       "13. 1\n",
       "14. 1\n",
       "15. 1\n",
       "16. 2\n",
       "\n",
       "\n"
      ],
      "text/plain": [
       " [1]  10 -11  -3   2   1  15   5   8  -6  -3   2  13   1   1   1   2"
      ]
     },
     "metadata": {},
     "output_type": "display_data"
    }
   ],
   "source": [
    "difference = winner - opponent\n",
    "difference"
   ]
  },
  {
   "cell_type": "code",
   "execution_count": 18,
   "metadata": {},
   "outputs": [
    {
     "data": {
      "text/html": [
       "<table>\n",
       "<thead><tr><th scope=col>year</th><th scope=col>winner</th><th scope=col>opponent</th><th scope=col>difference</th></tr></thead>\n",
       "<tbody>\n",
       "\t<tr><td>2008</td><td>185 </td><td>175 </td><td> 10 </td></tr>\n",
       "\t<tr><td>2004</td><td>182 </td><td>193 </td><td>-11 </td></tr>\n",
       "\t<tr><td>2000</td><td>182 </td><td>185 </td><td> -3 </td></tr>\n",
       "\t<tr><td>1996</td><td>189 </td><td>187 </td><td>  2 </td></tr>\n",
       "\t<tr><td>1992</td><td>189 </td><td>188 </td><td>  1 </td></tr>\n",
       "\t<tr><td>1988</td><td>188 </td><td>173 </td><td> 15 </td></tr>\n",
       "\t<tr><td>1984</td><td>185 </td><td>180 </td><td>  5 </td></tr>\n",
       "\t<tr><td>1980</td><td>185 </td><td>177 </td><td>  8 </td></tr>\n",
       "\t<tr><td>1976</td><td>177 </td><td>183 </td><td> -6 </td></tr>\n",
       "\t<tr><td>1972</td><td>182 </td><td>185 </td><td> -3 </td></tr>\n",
       "\t<tr><td>1968</td><td>182 </td><td>180 </td><td>  2 </td></tr>\n",
       "\t<tr><td>1964</td><td>193 </td><td>180 </td><td> 13 </td></tr>\n",
       "\t<tr><td>1960</td><td>183 </td><td>182 </td><td>  1 </td></tr>\n",
       "\t<tr><td>1956</td><td>179 </td><td>178 </td><td>  1 </td></tr>\n",
       "\t<tr><td>1952</td><td>179 </td><td>178 </td><td>  1 </td></tr>\n",
       "\t<tr><td>1948</td><td>175 </td><td>173 </td><td>  2 </td></tr>\n",
       "</tbody>\n",
       "</table>\n"
      ],
      "text/latex": [
       "\\begin{tabular}{r|llll}\n",
       " year & winner & opponent & difference\\\\\n",
       "\\hline\n",
       "\t 2008 & 185  & 175  &  10 \\\\\n",
       "\t 2004 & 182  & 193  & -11 \\\\\n",
       "\t 2000 & 182  & 185  &  -3 \\\\\n",
       "\t 1996 & 189  & 187  &   2 \\\\\n",
       "\t 1992 & 189  & 188  &   1 \\\\\n",
       "\t 1988 & 188  & 173  &  15 \\\\\n",
       "\t 1984 & 185  & 180  &   5 \\\\\n",
       "\t 1980 & 185  & 177  &   8 \\\\\n",
       "\t 1976 & 177  & 183  &  -6 \\\\\n",
       "\t 1972 & 182  & 185  &  -3 \\\\\n",
       "\t 1968 & 182  & 180  &   2 \\\\\n",
       "\t 1964 & 193  & 180  &  13 \\\\\n",
       "\t 1960 & 183  & 182  &   1 \\\\\n",
       "\t 1956 & 179  & 178  &   1 \\\\\n",
       "\t 1952 & 179  & 178  &   1 \\\\\n",
       "\t 1948 & 175  & 173  &   2 \\\\\n",
       "\\end{tabular}\n"
      ],
      "text/markdown": [
       "\n",
       "year | winner | opponent | difference | \n",
       "|---|---|---|---|---|---|---|---|---|---|---|---|---|---|---|---|\n",
       "| 2008 | 185  | 175  |  10  | \n",
       "| 2004 | 182  | 193  | -11  | \n",
       "| 2000 | 182  | 185  |  -3  | \n",
       "| 1996 | 189  | 187  |   2  | \n",
       "| 1992 | 189  | 188  |   1  | \n",
       "| 1988 | 188  | 173  |  15  | \n",
       "| 1984 | 185  | 180  |   5  | \n",
       "| 1980 | 185  | 177  |   8  | \n",
       "| 1976 | 177  | 183  |  -6  | \n",
       "| 1972 | 182  | 185  |  -3  | \n",
       "| 1968 | 182  | 180  |   2  | \n",
       "| 1964 | 193  | 180  |  13  | \n",
       "| 1960 | 183  | 182  |   1  | \n",
       "| 1956 | 179  | 178  |   1  | \n",
       "| 1952 | 179  | 178  |   1  | \n",
       "| 1948 | 175  | 173  |   2  | \n",
       "\n",
       "\n"
      ],
      "text/plain": [
       "   year winner opponent difference\n",
       "1  2008 185    175       10       \n",
       "2  2004 182    193      -11       \n",
       "3  2000 182    185       -3       \n",
       "4  1996 189    187        2       \n",
       "5  1992 189    188        1       \n",
       "6  1988 188    173       15       \n",
       "7  1984 185    180        5       \n",
       "8  1980 185    177        8       \n",
       "9  1976 177    183       -6       \n",
       "10 1972 182    185       -3       \n",
       "11 1968 182    180        2       \n",
       "12 1964 193    180       13       \n",
       "13 1960 183    182        1       \n",
       "14 1956 179    178        1       \n",
       "15 1952 179    178        1       \n",
       "16 1948 175    173        2       "
      ]
     },
     "metadata": {},
     "output_type": "display_data"
    }
   ],
   "source": [
    "data.frame(year, winner, opponent, difference)"
   ]
  },
  {
   "cell_type": "code",
   "execution_count": 21,
   "metadata": {},
   "outputs": [
    {
     "data": {
      "text/html": [
       "<ol class=list-inline>\n",
       "\t<li>TRUE</li>\n",
       "\t<li>FALSE</li>\n",
       "\t<li>FALSE</li>\n",
       "\t<li>TRUE</li>\n",
       "\t<li>TRUE</li>\n",
       "\t<li>TRUE</li>\n",
       "\t<li>TRUE</li>\n",
       "\t<li>TRUE</li>\n",
       "\t<li>FALSE</li>\n",
       "\t<li>FALSE</li>\n",
       "\t<li>TRUE</li>\n",
       "\t<li>TRUE</li>\n",
       "\t<li>TRUE</li>\n",
       "\t<li>TRUE</li>\n",
       "\t<li>TRUE</li>\n",
       "\t<li>TRUE</li>\n",
       "</ol>\n"
      ],
      "text/latex": [
       "\\begin{enumerate*}\n",
       "\\item TRUE\n",
       "\\item FALSE\n",
       "\\item FALSE\n",
       "\\item TRUE\n",
       "\\item TRUE\n",
       "\\item TRUE\n",
       "\\item TRUE\n",
       "\\item TRUE\n",
       "\\item FALSE\n",
       "\\item FALSE\n",
       "\\item TRUE\n",
       "\\item TRUE\n",
       "\\item TRUE\n",
       "\\item TRUE\n",
       "\\item TRUE\n",
       "\\item TRUE\n",
       "\\end{enumerate*}\n"
      ],
      "text/markdown": [
       "1. TRUE\n",
       "2. FALSE\n",
       "3. FALSE\n",
       "4. TRUE\n",
       "5. TRUE\n",
       "6. TRUE\n",
       "7. TRUE\n",
       "8. TRUE\n",
       "9. FALSE\n",
       "10. FALSE\n",
       "11. TRUE\n",
       "12. TRUE\n",
       "13. TRUE\n",
       "14. TRUE\n",
       "15. TRUE\n",
       "16. TRUE\n",
       "\n",
       "\n"
      ],
      "text/plain": [
       " [1]  TRUE FALSE FALSE  TRUE  TRUE  TRUE  TRUE  TRUE FALSE FALSE  TRUE  TRUE\n",
       "[13]  TRUE  TRUE  TRUE  TRUE"
      ]
     },
     "metadata": {},
     "output_type": "display_data"
    }
   ],
   "source": [
    "taller.won = winner > opponent\n",
    "taller.won"
   ]
  },
  {
   "cell_type": "code",
   "execution_count": 22,
   "metadata": {},
   "outputs": [
    {
     "data": {
      "text/plain": [
       "taller.won\n",
       "FALSE  TRUE \n",
       "    4    12 "
      ]
     },
     "metadata": {},
     "output_type": "display_data"
    }
   ],
   "source": [
    "table(taller.won)"
   ]
  },
  {
   "cell_type": "code",
   "execution_count": 23,
   "metadata": {},
   "outputs": [
    {
     "data": {
      "text/plain": [
       "taller.won\n",
       "FALSE  TRUE \n",
       "   25    75 "
      ]
     },
     "metadata": {},
     "output_type": "display_data"
    }
   ],
   "source": [
    "table(taller.won)/16*100"
   ]
  },
  {
   "cell_type": "code",
   "execution_count": 24,
   "metadata": {},
   "outputs": [
    {
     "data": {
      "image/jpeg": "[encoded data removed]",
      "image/png": "",
      "image/svg+xml": [
       "<?xml version=\"1.0\" encoding=\"UTF-8\"?>\n",
       "<svg xmlns=\"http://www.w3.org/2000/svg\" xmlns:xlink=\"http://www.w3.org/1999/xlink\" width=\"288pt\" height=\"216pt\" viewBox=\"0 0 288 216\" version=\"1.1\">\n",
       "<defs>\n",
       "<g>\n",
       "<symbol overflow=\"visible\" id=\"glyph0-0\">\n",
       "<path style=\"stroke:none;\" d=\"\"/>\n",
       "</symbol>\n",
       "<symbol overflow=\"visible\" id=\"glyph0-1\">\n",
       "<path style=\"stroke:none;\" d=\"M 4.46875 -0.125 L 4.46875 -9.125 L 3.515625 -9.125 C 3.09375 -7.625 2.96875 -7.578125 1.140625 -7.34375 L 1.140625 -6.3125 L 3.09375 -6.3125 L 3.09375 0 L 4.46875 0 Z M 4.46875 -0.125 \"/>\n",
       "</symbol>\n",
       "<symbol overflow=\"visible\" id=\"glyph0-2\">\n",
       "<path style=\"stroke:none;\" d=\"M 6.625 -7.875 L 6.625 -8.9375 L 0.4375 -8.9375 L 0.4375 -7.59375 L 5.09375 -7.59375 C 3.5 -5.578125 2.21875 -2.90625 1.5625 0 L 3 0 C 3.515625 -2.984375 4.71875 -5.578125 6.625 -7.828125 Z M 6.625 -7.875 \"/>\n",
       "</symbol>\n",
       "<symbol overflow=\"visible\" id=\"glyph0-3\">\n",
       "<path style=\"stroke:none;\" d=\"M 6.53125 -3.0625 C 6.53125 -4.8125 5.25 -6.09375 3.546875 -6.09375 C 2.921875 -6.09375 2.328125 -5.890625 2.09375 -5.71875 L 2.359375 -7.59375 L 6.078125 -7.59375 L 6.078125 -8.9375 L 1.25 -8.9375 L 0.546875 -4.03125 L 1.78125 -4.03125 C 2.328125 -4.6875 2.65625 -4.859375 3.34375 -4.859375 C 4.53125 -4.859375 5.15625 -4.21875 5.15625 -2.90625 C 5.15625 -1.640625 4.546875 -1.046875 3.34375 -1.046875 C 2.390625 -1.046875 1.921875 -1.40625 1.625 -2.53125 L 0.28125 -2.53125 C 0.65625 -0.640625 1.796875 0.1875 3.375 0.1875 C 5.15625 0.1875 6.53125 -1.1875 6.53125 -3.0625 Z M 6.53125 -3.0625 \"/>\n",
       "</symbol>\n",
       "<symbol overflow=\"visible\" id=\"glyph0-4\">\n",
       "<path style=\"stroke:none;\" d=\"M 6.53125 -2.625 C 6.53125 -3.609375 5.90625 -4.4375 5.140625 -4.796875 C 5.890625 -5.25 6.21875 -5.78125 6.21875 -6.625 C 6.21875 -8.015625 5.015625 -9.125 3.4375 -9.125 C 1.875 -9.125 0.640625 -8.015625 0.640625 -6.625 C 0.640625 -5.796875 0.96875 -5.265625 1.71875 -4.796875 C 0.96875 -4.4375 0.328125 -3.609375 0.328125 -2.640625 C 0.328125 -1.015625 1.6875 0.1875 3.4375 0.1875 C 5.1875 0.1875 6.53125 -1.015625 6.53125 -2.625 Z M 4.84375 -6.59375 C 4.84375 -5.78125 4.359375 -5.359375 3.4375 -5.359375 C 2.515625 -5.359375 2.03125 -5.78125 2.03125 -6.609375 C 2.03125 -7.46875 2.515625 -7.890625 3.4375 -7.890625 C 4.375 -7.890625 4.84375 -7.46875 4.84375 -6.59375 Z M 5.15625 -2.609375 C 5.15625 -1.5625 4.53125 -1.046875 3.40625 -1.046875 C 2.34375 -1.046875 1.71875 -1.578125 1.71875 -2.609375 C 1.71875 -3.65625 2.34375 -4.171875 3.4375 -4.171875 C 4.53125 -4.171875 5.15625 -3.65625 5.15625 -2.609375 Z M 5.15625 -2.609375 \"/>\n",
       "</symbol>\n",
       "<symbol overflow=\"visible\" id=\"glyph0-5\">\n",
       "<path style=\"stroke:none;\" d=\"M 6.46875 -4.390625 C 6.46875 -7.46875 5.359375 -9.125 3.4375 -9.125 C 1.53125 -9.125 0.40625 -7.4375 0.40625 -4.46875 C 0.40625 -1.46875 1.53125 0.1875 3.4375 0.1875 C 5.3125 0.1875 6.46875 -1.46875 6.46875 -4.390625 Z M 5.078125 -4.484375 C 5.078125 -1.96875 4.640625 -0.984375 3.40625 -0.984375 C 2.25 -0.984375 1.78125 -2.03125 1.78125 -4.453125 C 1.78125 -6.875 2.25 -7.890625 3.4375 -7.890625 C 4.625 -7.890625 5.078125 -6.859375 5.078125 -4.484375 Z M 5.078125 -4.484375 \"/>\n",
       "</symbol>\n",
       "<symbol overflow=\"visible\" id=\"glyph0-6\">\n",
       "<path style=\"stroke:none;\" d=\"M 6.484375 -4.765625 C 6.484375 -7.53125 5.40625 -9.125 3.375 -9.125 C 1.6875 -9.125 0.34375 -7.78125 0.34375 -6.046875 C 0.34375 -4.40625 1.59375 -3.15625 3.203125 -3.15625 C 4.03125 -3.15625 4.734375 -3.5 5.3125 -4.1875 L 5.09375 -4.28125 C 5.078125 -2.109375 4.515625 -1.046875 3.25 -1.046875 C 2.46875 -1.046875 2.0625 -1.40625 1.859375 -2.390625 L 0.5 -2.390625 C 0.734375 -0.796875 1.828125 0.1875 3.171875 0.1875 C 5.25 0.1875 6.484375 -1.703125 6.484375 -4.765625 Z M 5.03125 -6.078125 C 5.03125 -4.984375 4.40625 -4.40625 3.328125 -4.40625 C 2.265625 -4.40625 1.71875 -4.953125 1.71875 -6.140625 C 1.71875 -7.265625 2.34375 -7.90625 3.359375 -7.90625 C 4.390625 -7.90625 5.03125 -7.21875 5.03125 -6.078125 Z M 5.03125 -6.078125 \"/>\n",
       "</symbol>\n",
       "<symbol overflow=\"visible\" id=\"glyph0-7\">\n",
       "<path style=\"stroke:none;\" d=\"M 8.84375 -6.8125 L 7.578125 -6.8125 L 6.234375 -1.578125 L 6.5 -1.578125 L 5.171875 -6.8125 L 3.71875 -6.8125 L 2.421875 -1.578125 L 2.6875 -1.578125 L 1.3125 -6.8125 L -0.09375 -6.8125 L 1.875 0 L 3.234375 0 L 4.53125 -5.265625 L 4.28125 -5.265625 L 5.640625 0 L 7.015625 0 L 9.015625 -6.8125 Z M 8.84375 -6.8125 \"/>\n",
       "</symbol>\n",
       "<symbol overflow=\"visible\" id=\"glyph0-8\">\n",
       "<path style=\"stroke:none;\" d=\"M 2.03125 -0.125 L 2.03125 -6.8125 L 0.734375 -6.8125 L 0.734375 0 L 2.03125 0 Z M 2.171875 -7.65625 L 2.171875 -9.09375 L 0.609375 -9.09375 L 0.609375 -7.53125 L 2.171875 -7.53125 Z M 2.171875 -7.65625 \"/>\n",
       "</symbol>\n",
       "<symbol overflow=\"visible\" id=\"glyph0-9\">\n",
       "<path style=\"stroke:none;\" d=\"M 6.21875 -0.125 L 6.21875 -5.078125 C 6.21875 -6.15625 5.28125 -7 4.015625 -7 C 3.03125 -7 2.3125 -6.578125 1.734375 -5.65625 L 1.96875 -5.578125 L 1.96875 -6.8125 L 0.734375 -6.8125 L 0.734375 0 L 2.03125 0 L 2.03125 -3.734375 C 2.03125 -5.078125 2.640625 -5.828125 3.703125 -5.828125 C 4.53125 -5.828125 4.90625 -5.453125 4.90625 -4.65625 L 4.90625 0 L 6.21875 0 Z M 6.21875 -0.125 \"/>\n",
       "</symbol>\n",
       "<symbol overflow=\"visible\" id=\"glyph0-10\">\n",
       "<path style=\"stroke:none;\" d=\"M 6.53125 -3.09375 C 6.53125 -4.046875 6.46875 -4.65625 6.28125 -5.140625 C 5.84375 -6.21875 4.71875 -7 3.5 -7 C 1.671875 -7 0.359375 -5.515625 0.359375 -3.359375 C 0.359375 -1.21875 1.640625 0.1875 3.46875 0.1875 C 4.96875 0.1875 6.140625 -0.78125 6.421875 -2.25 L 5.125 -2.25 C 4.796875 -1.25 4.34375 -1.03125 3.515625 -1.03125 C 2.421875 -1.03125 1.734375 -1.59375 1.71875 -2.96875 L 6.53125 -2.96875 Z M 5.390625 -3.9375 C 5.390625 -3.9375 5.203125 -4.0625 5.21875 -4.09375 L 1.75 -4.09375 C 1.828125 -5.109375 2.4375 -5.78125 3.484375 -5.78125 C 4.515625 -5.78125 5.15625 -5.046875 5.15625 -4.03125 Z M 5.390625 -3.9375 \"/>\n",
       "</symbol>\n",
       "<symbol overflow=\"visible\" id=\"glyph0-11\">\n",
       "<path style=\"stroke:none;\" d=\"M 4.140625 -5.765625 L 4.140625 -6.9375 C 3.84375 -6.984375 3.75 -7 3.609375 -7 C 2.9375 -7 2.328125 -6.546875 1.71875 -5.578125 L 1.953125 -5.484375 L 1.953125 -6.8125 L 0.734375 -6.8125 L 0.734375 0 L 2.03125 0 L 2.03125 -3.53125 C 2.03125 -5 2.40625 -5.609375 4.140625 -5.640625 Z M 4.140625 -5.765625 \"/>\n",
       "</symbol>\n",
       "<symbol overflow=\"visible\" id=\"glyph1-0\">\n",
       "<path style=\"stroke:none;\" d=\"\"/>\n",
       "</symbol>\n",
       "<symbol overflow=\"visible\" id=\"glyph1-1\">\n",
       "<path style=\"stroke:none;\" d=\"M -0.125 -4.46875 L -9.125 -4.46875 L -9.125 -3.515625 C -7.625 -3.09375 -7.578125 -2.96875 -7.34375 -1.140625 L -6.3125 -1.140625 L -6.3125 -3.09375 L 0 -3.09375 L 0 -4.46875 Z M -0.125 -4.46875 \"/>\n",
       "</symbol>\n",
       "<symbol overflow=\"visible\" id=\"glyph1-2\">\n",
       "<path style=\"stroke:none;\" d=\"M -7.875 -6.625 L -8.9375 -6.625 L -8.9375 -0.4375 L -7.59375 -0.4375 L -7.59375 -5.09375 C -5.578125 -3.5 -2.90625 -2.21875 0 -1.5625 L 0 -3 C -2.984375 -3.515625 -5.578125 -4.71875 -7.828125 -6.625 Z M -7.875 -6.625 \"/>\n",
       "</symbol>\n",
       "<symbol overflow=\"visible\" id=\"glyph1-3\">\n",
       "<path style=\"stroke:none;\" d=\"M -3.0625 -6.53125 C -4.8125 -6.53125 -6.09375 -5.25 -6.09375 -3.546875 C -6.09375 -2.921875 -5.890625 -2.328125 -5.71875 -2.09375 L -7.59375 -2.359375 L -7.59375 -6.078125 L -8.9375 -6.078125 L -8.9375 -1.25 L -4.03125 -0.546875 L -4.03125 -1.78125 C -4.6875 -2.328125 -4.859375 -2.65625 -4.859375 -3.34375 C -4.859375 -4.53125 -4.21875 -5.15625 -2.90625 -5.15625 C -1.640625 -5.15625 -1.046875 -4.546875 -1.046875 -3.34375 C -1.046875 -2.390625 -1.40625 -1.921875 -2.53125 -1.625 L -2.53125 -0.28125 C -0.640625 -0.65625 0.1875 -1.796875 0.1875 -3.375 C 0.1875 -5.15625 -1.1875 -6.53125 -3.0625 -6.53125 Z M -3.0625 -6.53125 \"/>\n",
       "</symbol>\n",
       "<symbol overflow=\"visible\" id=\"glyph1-4\">\n",
       "<path style=\"stroke:none;\" d=\"M -2.625 -6.53125 C -3.609375 -6.53125 -4.4375 -5.90625 -4.796875 -5.140625 C -5.25 -5.890625 -5.78125 -6.21875 -6.625 -6.21875 C -8.015625 -6.21875 -9.125 -5.015625 -9.125 -3.4375 C -9.125 -1.875 -8.015625 -0.640625 -6.625 -0.640625 C -5.796875 -0.640625 -5.265625 -0.96875 -4.796875 -1.71875 C -4.4375 -0.96875 -3.609375 -0.328125 -2.640625 -0.328125 C -1.015625 -0.328125 0.1875 -1.6875 0.1875 -3.4375 C 0.1875 -5.1875 -1.015625 -6.53125 -2.625 -6.53125 Z M -6.59375 -4.84375 C -5.78125 -4.84375 -5.359375 -4.359375 -5.359375 -3.4375 C -5.359375 -2.515625 -5.78125 -2.03125 -6.609375 -2.03125 C -7.46875 -2.03125 -7.890625 -2.515625 -7.890625 -3.4375 C -7.890625 -4.375 -7.46875 -4.84375 -6.59375 -4.84375 Z M -2.609375 -5.15625 C -1.5625 -5.15625 -1.046875 -4.53125 -1.046875 -3.40625 C -1.046875 -2.34375 -1.578125 -1.71875 -2.609375 -1.71875 C -3.65625 -1.71875 -4.171875 -2.34375 -4.171875 -3.4375 C -4.171875 -4.53125 -3.65625 -5.15625 -2.609375 -5.15625 Z M -2.609375 -5.15625 \"/>\n",
       "</symbol>\n",
       "<symbol overflow=\"visible\" id=\"glyph1-5\">\n",
       "<path style=\"stroke:none;\" d=\"M -3.34375 -6.5 C -5.609375 -6.5 -7 -5.28125 -7 -3.40625 C -7 -1.5625 -5.59375 -0.3125 -3.40625 -0.3125 C -1.203125 -0.3125 0.1875 -1.546875 0.1875 -3.40625 C 0.1875 -5.25 -1.203125 -6.5 -3.34375 -6.5 Z M -3.359375 -5.15625 C -1.828125 -5.15625 -1.03125 -4.5625 -1.03125 -3.40625 C -1.03125 -2.25 -1.8125 -1.65625 -3.40625 -1.65625 C -4.96875 -1.65625 -5.78125 -2.25 -5.78125 -3.40625 C -5.78125 -4.59375 -4.984375 -5.15625 -3.359375 -5.15625 Z M -3.359375 -5.15625 \"/>\n",
       "</symbol>\n",
       "<symbol overflow=\"visible\" id=\"glyph1-6\">\n",
       "<path style=\"stroke:none;\" d=\"M -3.34375 -6.65625 C -5.53125 -6.65625 -7 -5.46875 -7 -3.71875 C -7 -2.84375 -6.546875 -2.03125 -5.78125 -1.53125 L -5.6875 -1.765625 L -6.8125 -1.765625 L -6.8125 -0.546875 L 2.71875 -0.546875 L 2.71875 -1.84375 L -0.90625 -1.84375 L -0.828125 -1.625 C -0.15625 -2.171875 0.1875 -2.890625 0.1875 -3.734375 C 0.1875 -5.421875 -1.25 -6.65625 -3.34375 -6.65625 Z M -3.359375 -5.3125 C -1.875 -5.3125 -1.046875 -4.6875 -1.046875 -3.546875 C -1.046875 -2.453125 -1.8125 -1.84375 -3.34375 -1.84375 C -4.890625 -1.84375 -5.765625 -2.453125 -5.765625 -3.546875 C -5.765625 -4.703125 -4.921875 -5.3125 -3.359375 -5.3125 Z M -3.359375 -5.3125 \"/>\n",
       "</symbol>\n",
       "<symbol overflow=\"visible\" id=\"glyph1-7\">\n",
       "<path style=\"stroke:none;\" d=\"M -0.125 -6.21875 L -5.078125 -6.21875 C -6.15625 -6.21875 -7 -5.28125 -7 -4.015625 C -7 -3.03125 -6.578125 -2.3125 -5.65625 -1.734375 L -5.578125 -1.96875 L -6.8125 -1.96875 L -6.8125 -0.734375 L 0 -0.734375 L 0 -2.03125 L -3.734375 -2.03125 C -5.078125 -2.03125 -5.828125 -2.640625 -5.828125 -3.703125 C -5.828125 -4.53125 -5.453125 -4.90625 -4.65625 -4.90625 L 0 -4.90625 L 0 -6.21875 Z M -0.125 -6.21875 \"/>\n",
       "</symbol>\n",
       "<symbol overflow=\"visible\" id=\"glyph1-8\">\n",
       "<path style=\"stroke:none;\" d=\"M -3.09375 -6.53125 C -4.046875 -6.53125 -4.65625 -6.46875 -5.140625 -6.28125 C -6.21875 -5.84375 -7 -4.71875 -7 -3.5 C -7 -1.671875 -5.515625 -0.359375 -3.359375 -0.359375 C -1.21875 -0.359375 0.1875 -1.640625 0.1875 -3.46875 C 0.1875 -4.96875 -0.78125 -6.140625 -2.25 -6.421875 L -2.25 -5.125 C -1.25 -4.796875 -1.03125 -4.34375 -1.03125 -3.515625 C -1.03125 -2.421875 -1.59375 -1.734375 -2.96875 -1.71875 L -2.96875 -6.53125 Z M -3.9375 -5.390625 C -3.9375 -5.390625 -4.0625 -5.203125 -4.09375 -5.21875 L -4.09375 -1.75 C -5.109375 -1.828125 -5.78125 -2.4375 -5.78125 -3.484375 C -5.78125 -4.515625 -5.046875 -5.15625 -4.03125 -5.15625 Z M -3.9375 -5.390625 \"/>\n",
       "</symbol>\n",
       "<symbol overflow=\"visible\" id=\"glyph1-9\">\n",
       "<path style=\"stroke:none;\" d=\"M -0.125 -3.296875 L -1.171875 -3.296875 C -1.09375 -3.03125 -1.09375 -2.875 -1.09375 -2.671875 C -1.09375 -2.21875 -1.078125 -2.21875 -1.53125 -2.21875 L -5.703125 -2.21875 L -5.703125 -3.296875 L -6.8125 -3.296875 L -6.8125 -2.21875 L -8.609375 -2.21875 L -8.609375 -0.921875 L -6.8125 -0.921875 L -6.8125 -0.03125 L -5.703125 -0.03125 L -5.703125 -0.921875 L -1.078125 -0.921875 C -0.40625 -0.921875 0.09375 -1.515625 0.09375 -2.328125 C 0.09375 -2.578125 0.0625 -2.828125 -0.015625 -3.296875 Z M -0.125 -3.296875 \"/>\n",
       "</symbol>\n",
       "</g>\n",
       "<clipPath id=\"clip1\">\n",
       "  <path d=\"M 134 59.039062 L 142 59.039062 L 142 66 L 134 66 Z M 134 59.039062 \"/>\n",
       "</clipPath>\n",
       "<clipPath id=\"clip2\">\n",
       "  <path d=\"M 195 135 L 203 135 L 203 143.558594 L 195 143.558594 Z M 195 135 \"/>\n",
       "</clipPath>\n",
       "<clipPath id=\"clip3\">\n",
       "  <path d=\"M 62 135 L 71 135 L 71 143.558594 L 62 143.558594 Z M 62 135 \"/>\n",
       "</clipPath>\n",
       "</defs>\n",
       "<g id=\"surface119\">\n",
       "<rect x=\"0\" y=\"0\" width=\"288\" height=\"216\" style=\"fill:rgb(100%,100%,100%);fill-opacity:1;stroke:none;\"/>\n",
       "<path style=\"fill:none;stroke-width:1;stroke-linecap:round;stroke-linejoin:round;stroke:rgb(0%,0%,0%);stroke-opacity:1;stroke-miterlimit:10;\" d=\"M 171.820312 131.734375 C 171.820312 136 165.421875 136 165.421875 131.734375 C 165.421875 127.464844 171.820312 127.464844 171.820312 131.734375 \"/>\n",
       "<g clip-path=\"url(#clip1)\" clip-rule=\"nonzero\">\n",
       "<path style=\"fill:none;stroke-width:1;stroke-linecap:round;stroke-linejoin:round;stroke:rgb(0%,0%,0%);stroke-opacity:1;stroke-miterlimit:10;\" d=\"M 141.15625 62.132812 C 141.15625 66.398438 134.753906 66.398438 134.753906 62.132812 C 134.753906 57.867188 141.15625 57.867188 141.15625 62.132812 \"/>\n",
       "</g>\n",
       "<path style=\"fill:none;stroke-width:1;stroke-linecap:round;stroke-linejoin:round;stroke:rgb(0%,0%,0%);stroke-opacity:1;stroke-miterlimit:10;\" d=\"M 141.15625 93.066406 C 141.15625 97.332031 134.753906 97.332031 134.753906 93.066406 C 134.753906 88.800781 141.15625 88.800781 141.15625 93.066406 \"/>\n",
       "<path style=\"fill:none;stroke-width:1;stroke-linecap:round;stroke-linejoin:round;stroke:rgb(0%,0%,0%);stroke-opacity:1;stroke-miterlimit:10;\" d=\"M 212.710938 85.332031 C 212.710938 89.601562 206.3125 89.601562 206.3125 85.332031 C 206.3125 81.066406 212.710938 81.066406 212.710938 85.332031 \"/>\n",
       "<path style=\"fill:none;stroke-width:1;stroke-linecap:round;stroke-linejoin:round;stroke:rgb(0%,0%,0%);stroke-opacity:1;stroke-miterlimit:10;\" d=\"M 212.710938 81.464844 C 212.710938 85.734375 206.3125 85.734375 206.3125 81.464844 C 206.3125 77.199219 212.710938 77.199219 212.710938 81.464844 \"/>\n",
       "<g clip-path=\"url(#clip2)\" clip-rule=\"nonzero\">\n",
       "<path style=\"fill:none;stroke-width:1;stroke-linecap:round;stroke-linejoin:round;stroke:rgb(0%,0%,0%);stroke-opacity:1;stroke-miterlimit:10;\" d=\"M 202.488281 139.464844 C 202.488281 143.734375 196.089844 143.734375 196.089844 139.464844 C 196.089844 135.199219 202.488281 135.199219 202.488281 139.464844 \"/>\n",
       "</g>\n",
       "<path style=\"fill:none;stroke-width:1;stroke-linecap:round;stroke-linejoin:round;stroke:rgb(0%,0%,0%);stroke-opacity:1;stroke-miterlimit:10;\" d=\"M 171.820312 112.398438 C 171.820312 116.667969 165.421875 116.667969 165.421875 112.398438 C 165.421875 108.132812 171.820312 108.132812 171.820312 112.398438 \"/>\n",
       "<path style=\"fill:none;stroke-width:1;stroke-linecap:round;stroke-linejoin:round;stroke:rgb(0%,0%,0%);stroke-opacity:1;stroke-miterlimit:10;\" d=\"M 171.820312 124 C 171.820312 128.265625 165.421875 128.265625 165.421875 124 C 165.421875 119.734375 171.820312 119.734375 171.820312 124 \"/>\n",
       "<path style=\"fill:none;stroke-width:1;stroke-linecap:round;stroke-linejoin:round;stroke:rgb(0%,0%,0%);stroke-opacity:1;stroke-miterlimit:10;\" d=\"M 90.042969 100.800781 C 90.042969 105.066406 83.644531 105.066406 83.644531 100.800781 C 83.644531 96.535156 90.042969 96.535156 90.042969 100.800781 \"/>\n",
       "<path style=\"fill:none;stroke-width:1;stroke-linecap:round;stroke-linejoin:round;stroke:rgb(0%,0%,0%);stroke-opacity:1;stroke-miterlimit:10;\" d=\"M 141.15625 93.066406 C 141.15625 97.332031 134.753906 97.332031 134.753906 93.066406 C 134.753906 88.800781 141.15625 88.800781 141.15625 93.066406 \"/>\n",
       "<path style=\"fill:none;stroke-width:1;stroke-linecap:round;stroke-linejoin:round;stroke:rgb(0%,0%,0%);stroke-opacity:1;stroke-miterlimit:10;\" d=\"M 141.15625 112.398438 C 141.15625 116.667969 134.753906 116.667969 134.753906 112.398438 C 134.753906 108.132812 141.15625 108.132812 141.15625 112.398438 \"/>\n",
       "<path style=\"fill:none;stroke-width:1;stroke-linecap:round;stroke-linejoin:round;stroke:rgb(0%,0%,0%);stroke-opacity:1;stroke-miterlimit:10;\" d=\"M 253.601562 112.398438 C 253.601562 116.667969 247.199219 116.667969 247.199219 112.398438 C 247.199219 108.132812 253.601562 108.132812 253.601562 112.398438 \"/>\n",
       "<path style=\"fill:none;stroke-width:1;stroke-linecap:round;stroke-linejoin:round;stroke:rgb(0%,0%,0%);stroke-opacity:1;stroke-miterlimit:10;\" d=\"M 151.378906 104.667969 C 151.378906 108.933594 144.976562 108.933594 144.976562 104.667969 C 144.976562 100.398438 151.378906 100.398438 151.378906 104.667969 \"/>\n",
       "<path style=\"fill:none;stroke-width:1;stroke-linecap:round;stroke-linejoin:round;stroke:rgb(0%,0%,0%);stroke-opacity:1;stroke-miterlimit:10;\" d=\"M 110.488281 120.132812 C 110.488281 124.398438 104.089844 124.398438 104.089844 120.132812 C 104.089844 115.867188 110.488281 115.867188 110.488281 120.132812 \"/>\n",
       "<path style=\"fill:none;stroke-width:1;stroke-linecap:round;stroke-linejoin:round;stroke:rgb(0%,0%,0%);stroke-opacity:1;stroke-miterlimit:10;\" d=\"M 110.488281 120.132812 C 110.488281 124.398438 104.089844 124.398438 104.089844 120.132812 C 104.089844 115.867188 110.488281 115.867188 110.488281 120.132812 \"/>\n",
       "<g clip-path=\"url(#clip3)\" clip-rule=\"nonzero\">\n",
       "<path style=\"fill:none;stroke-width:1;stroke-linecap:round;stroke-linejoin:round;stroke:rgb(0%,0%,0%);stroke-opacity:1;stroke-miterlimit:10;\" d=\"M 69.601562 139.464844 C 69.601562 143.734375 63.199219 143.734375 63.199219 139.464844 C 63.199219 135.199219 69.601562 135.199219 69.601562 139.464844 \"/>\n",
       "</g>\n",
       "<path style=\"fill:none;stroke-width:1;stroke-linecap:round;stroke-linejoin:round;stroke:rgb(0%,0%,0%);stroke-opacity:1;stroke-miterlimit:10;\" d=\"M 66.398438 142.558594 L 219.734375 142.558594 \"/>\n",
       "<path style=\"fill:none;stroke-width:1;stroke-linecap:round;stroke-linejoin:round;stroke:rgb(0%,0%,0%);stroke-opacity:1;stroke-miterlimit:10;\" d=\"M 66.398438 142.558594 L 66.398438 149.761719 \"/>\n",
       "<path style=\"fill:none;stroke-width:1;stroke-linecap:round;stroke-linejoin:round;stroke:rgb(0%,0%,0%);stroke-opacity:1;stroke-miterlimit:10;\" d=\"M 117.511719 142.558594 L 117.511719 149.761719 \"/>\n",
       "<path style=\"fill:none;stroke-width:1;stroke-linecap:round;stroke-linejoin:round;stroke:rgb(0%,0%,0%);stroke-opacity:1;stroke-miterlimit:10;\" d=\"M 168.621094 142.558594 L 168.621094 149.761719 \"/>\n",
       "<path style=\"fill:none;stroke-width:1;stroke-linecap:round;stroke-linejoin:round;stroke:rgb(0%,0%,0%);stroke-opacity:1;stroke-miterlimit:10;\" d=\"M 219.734375 142.558594 L 219.734375 149.761719 \"/>\n",
       "<g style=\"fill:rgb(0%,0%,0%);fill-opacity:1;\">\n",
       "  <use xlink:href=\"#glyph0-1\" x=\"55.972656\" y=\"169.921875\"/>\n",
       "  <use xlink:href=\"#glyph0-2\" x=\"62.922684\" y=\"169.921875\"/>\n",
       "  <use xlink:href=\"#glyph0-3\" x=\"69.872711\" y=\"169.921875\"/>\n",
       "</g>\n",
       "<g style=\"fill:rgb(0%,0%,0%);fill-opacity:1;\">\n",
       "  <use xlink:href=\"#glyph0-1\" x=\"107.085938\" y=\"169.921875\"/>\n",
       "  <use xlink:href=\"#glyph0-4\" x=\"114.035965\" y=\"169.921875\"/>\n",
       "  <use xlink:href=\"#glyph0-5\" x=\"120.985992\" y=\"169.921875\"/>\n",
       "</g>\n",
       "<g style=\"fill:rgb(0%,0%,0%);fill-opacity:1;\">\n",
       "  <use xlink:href=\"#glyph0-1\" x=\"158.195312\" y=\"169.921875\"/>\n",
       "  <use xlink:href=\"#glyph0-4\" x=\"165.14534\" y=\"169.921875\"/>\n",
       "  <use xlink:href=\"#glyph0-3\" x=\"172.095367\" y=\"169.921875\"/>\n",
       "</g>\n",
       "<g style=\"fill:rgb(0%,0%,0%);fill-opacity:1;\">\n",
       "  <use xlink:href=\"#glyph0-1\" x=\"209.308594\" y=\"169.921875\"/>\n",
       "  <use xlink:href=\"#glyph0-6\" x=\"216.258621\" y=\"169.921875\"/>\n",
       "  <use xlink:href=\"#glyph0-5\" x=\"223.208649\" y=\"169.921875\"/>\n",
       "</g>\n",
       "<path style=\"fill:none;stroke-width:1;stroke-linecap:round;stroke-linejoin:round;stroke:rgb(0%,0%,0%);stroke-opacity:1;stroke-miterlimit:10;\" d=\"M 59.039062 131.734375 L 59.039062 73.734375 \"/>\n",
       "<path style=\"fill:none;stroke-width:1;stroke-linecap:round;stroke-linejoin:round;stroke:rgb(0%,0%,0%);stroke-opacity:1;stroke-miterlimit:10;\" d=\"M 59.039062 131.734375 L 51.839844 131.734375 \"/>\n",
       "<path style=\"fill:none;stroke-width:1;stroke-linecap:round;stroke-linejoin:round;stroke:rgb(0%,0%,0%);stroke-opacity:1;stroke-miterlimit:10;\" d=\"M 59.039062 112.398438 L 51.839844 112.398438 \"/>\n",
       "<path style=\"fill:none;stroke-width:1;stroke-linecap:round;stroke-linejoin:round;stroke:rgb(0%,0%,0%);stroke-opacity:1;stroke-miterlimit:10;\" d=\"M 59.039062 93.066406 L 51.839844 93.066406 \"/>\n",
       "<path style=\"fill:none;stroke-width:1;stroke-linecap:round;stroke-linejoin:round;stroke:rgb(0%,0%,0%);stroke-opacity:1;stroke-miterlimit:10;\" d=\"M 59.039062 73.734375 L 51.839844 73.734375 \"/>\n",
       "<g style=\"fill:rgb(0%,0%,0%);fill-opacity:1;\">\n",
       "  <use xlink:href=\"#glyph1-1\" x=\"43.199219\" y=\"142.160156\"/>\n",
       "  <use xlink:href=\"#glyph1-2\" x=\"43.199219\" y=\"135.210129\"/>\n",
       "  <use xlink:href=\"#glyph1-3\" x=\"43.199219\" y=\"128.260101\"/>\n",
       "</g>\n",
       "<g style=\"fill:rgb(0%,0%,0%);fill-opacity:1;\">\n",
       "  <use xlink:href=\"#glyph1-1\" x=\"43.199219\" y=\"103.492188\"/>\n",
       "  <use xlink:href=\"#glyph1-4\" x=\"43.199219\" y=\"96.54216\"/>\n",
       "  <use xlink:href=\"#glyph1-3\" x=\"43.199219\" y=\"89.592133\"/>\n",
       "</g>\n",
       "<path style=\"fill:none;stroke-width:1;stroke-linecap:round;stroke-linejoin:round;stroke:rgb(0%,0%,0%);stroke-opacity:1;stroke-miterlimit:10;\" d=\"M 59.039062 142.558594 L 257.761719 142.558594 L 257.761719 59.039062 L 59.039062 59.039062 L 59.039062 142.558594 \"/>\n",
       "<g style=\"fill:rgb(0%,0%,0%);fill-opacity:1;\">\n",
       "  <use xlink:href=\"#glyph0-7\" x=\"139.992188\" y=\"198.71875\"/>\n",
       "  <use xlink:href=\"#glyph0-8\" x=\"149.017227\" y=\"198.71875\"/>\n",
       "  <use xlink:href=\"#glyph0-9\" x=\"151.792236\" y=\"198.71875\"/>\n",
       "  <use xlink:href=\"#glyph0-9\" x=\"158.742264\" y=\"198.71875\"/>\n",
       "  <use xlink:href=\"#glyph0-10\" x=\"165.692291\" y=\"198.71875\"/>\n",
       "  <use xlink:href=\"#glyph0-11\" x=\"172.642319\" y=\"198.71875\"/>\n",
       "</g>\n",
       "<g style=\"fill:rgb(0%,0%,0%);fill-opacity:1;\">\n",
       "  <use xlink:href=\"#glyph1-5\" x=\"14.398438\" y=\"126.863281\"/>\n",
       "  <use xlink:href=\"#glyph1-6\" x=\"14.398438\" y=\"119.913254\"/>\n",
       "  <use xlink:href=\"#glyph1-6\" x=\"14.398438\" y=\"112.963226\"/>\n",
       "  <use xlink:href=\"#glyph1-5\" x=\"14.398438\" y=\"106.013199\"/>\n",
       "  <use xlink:href=\"#glyph1-7\" x=\"14.398438\" y=\"99.063171\"/>\n",
       "  <use xlink:href=\"#glyph1-8\" x=\"14.398438\" y=\"92.113144\"/>\n",
       "  <use xlink:href=\"#glyph1-7\" x=\"14.398438\" y=\"85.163116\"/>\n",
       "  <use xlink:href=\"#glyph1-9\" x=\"14.398438\" y=\"78.213089\"/>\n",
       "</g>\n",
       "</g>\n",
       "</svg>\n"
      ]
     },
     "metadata": {
      "image/svg+xml": {
       "isolated": true
      }
     },
     "output_type": "display_data"
    }
   ],
   "source": [
    "plot(winner, opponent)"
   ]
  },
  {
   "cell_type": "code",
   "execution_count": 25,
   "metadata": {},
   "outputs": [
    {
     "data": {
      "image/jpeg": "[encoded data removed]",
      "image/png": "",
      "image/svg+xml": [
       "<?xml version=\"1.0\" encoding=\"UTF-8\"?>\n",
       "<svg xmlns=\"http://www.w3.org/2000/svg\" xmlns:xlink=\"http://www.w3.org/1999/xlink\" width=\"288pt\" height=\"216pt\" viewBox=\"0 0 288 216\" version=\"1.1\">\n",
       "<defs>\n",
       "<g>\n",
       "<symbol overflow=\"visible\" id=\"glyph0-0\">\n",
       "<path style=\"stroke:none;\" d=\"\"/>\n",
       "</symbol>\n",
       "<symbol overflow=\"visible\" id=\"glyph0-1\">\n",
       "<path style=\"stroke:none;\" d=\"M 7.78125 -0.125 L 7.78125 -1.28125 L 2.40625 -1.28125 L 2.40625 -4.15625 L 7.375 -4.15625 L 7.375 -5.4375 L 2.40625 -5.4375 L 2.40625 -8.09375 L 7.5625 -8.09375 L 7.5625 -9.375 L 0.984375 -9.375 L 0.984375 0 L 7.78125 0 Z M 7.78125 -0.125 \"/>\n",
       "</symbol>\n",
       "<symbol overflow=\"visible\" id=\"glyph0-2\">\n",
       "<path style=\"stroke:none;\" d=\"M 2.015625 -0.125 L 2.015625 -9.375 L 0.71875 -9.375 L 0.71875 0 L 2.015625 0 Z M 2.015625 -0.125 \"/>\n",
       "</symbol>\n",
       "<symbol overflow=\"visible\" id=\"glyph0-3\">\n",
       "<path style=\"stroke:none;\" d=\"M 6.53125 -3.09375 C 6.53125 -4.046875 6.46875 -4.65625 6.28125 -5.140625 C 5.84375 -6.21875 4.71875 -7 3.5 -7 C 1.671875 -7 0.359375 -5.515625 0.359375 -3.359375 C 0.359375 -1.21875 1.640625 0.1875 3.46875 0.1875 C 4.96875 0.1875 6.140625 -0.78125 6.421875 -2.25 L 5.125 -2.25 C 4.796875 -1.25 4.34375 -1.03125 3.515625 -1.03125 C 2.421875 -1.03125 1.734375 -1.59375 1.71875 -2.96875 L 6.53125 -2.96875 Z M 5.390625 -3.9375 C 5.390625 -3.9375 5.203125 -4.0625 5.21875 -4.09375 L 1.75 -4.09375 C 1.828125 -5.109375 2.4375 -5.78125 3.484375 -5.78125 C 4.515625 -5.78125 5.15625 -5.046875 5.15625 -4.03125 Z M 5.390625 -3.9375 \"/>\n",
       "</symbol>\n",
       "<symbol overflow=\"visible\" id=\"glyph0-4\">\n",
       "<path style=\"stroke:none;\" d=\"M 5.96875 -2.515625 L 4.796875 -2.515625 C 4.59375 -1.328125 4.203125 -1.03125 3.3125 -1.03125 C 2.15625 -1.03125 1.59375 -1.78125 1.59375 -3.34375 C 1.59375 -4.96875 2.15625 -5.78125 3.28125 -5.78125 C 4.15625 -5.78125 4.578125 -5.390625 4.71875 -4.34375 L 6.03125 -4.34375 C 5.890625 -6.078125 4.765625 -7 3.296875 -7 C 1.53125 -7 0.25 -5.515625 0.25 -3.34375 C 0.25 -1.21875 1.515625 0.1875 3.28125 0.1875 C 4.84375 0.1875 5.96875 -0.875 6.09375 -2.515625 Z M 5.96875 -2.515625 \"/>\n",
       "</symbol>\n",
       "<symbol overflow=\"visible\" id=\"glyph0-5\">\n",
       "<path style=\"stroke:none;\" d=\"M 3.296875 -0.125 L 3.296875 -1.171875 C 3.03125 -1.09375 2.875 -1.09375 2.671875 -1.09375 C 2.21875 -1.09375 2.21875 -1.078125 2.21875 -1.53125 L 2.21875 -5.703125 L 3.296875 -5.703125 L 3.296875 -6.8125 L 2.21875 -6.8125 L 2.21875 -8.609375 L 0.921875 -8.609375 L 0.921875 -6.8125 L 0.03125 -6.8125 L 0.03125 -5.703125 L 0.921875 -5.703125 L 0.921875 -1.078125 C 0.921875 -0.40625 1.515625 0.09375 2.328125 0.09375 C 2.578125 0.09375 2.828125 0.0625 3.296875 -0.015625 Z M 3.296875 -0.125 \"/>\n",
       "</symbol>\n",
       "<symbol overflow=\"visible\" id=\"glyph0-6\">\n",
       "<path style=\"stroke:none;\" d=\"M 2.03125 -0.125 L 2.03125 -6.8125 L 0.734375 -6.8125 L 0.734375 0 L 2.03125 0 Z M 2.171875 -7.65625 L 2.171875 -9.09375 L 0.609375 -9.09375 L 0.609375 -7.53125 L 2.171875 -7.53125 Z M 2.171875 -7.65625 \"/>\n",
       "</symbol>\n",
       "<symbol overflow=\"visible\" id=\"glyph0-7\">\n",
       "<path style=\"stroke:none;\" d=\"M 6.5 -3.34375 C 6.5 -5.609375 5.28125 -7 3.40625 -7 C 1.5625 -7 0.3125 -5.59375 0.3125 -3.40625 C 0.3125 -1.203125 1.546875 0.1875 3.40625 0.1875 C 5.25 0.1875 6.5 -1.203125 6.5 -3.34375 Z M 5.15625 -3.359375 C 5.15625 -1.828125 4.5625 -1.03125 3.40625 -1.03125 C 2.25 -1.03125 1.65625 -1.8125 1.65625 -3.40625 C 1.65625 -4.96875 2.25 -5.78125 3.40625 -5.78125 C 4.59375 -5.78125 5.15625 -4.984375 5.15625 -3.359375 Z M 5.15625 -3.359375 \"/>\n",
       "</symbol>\n",
       "<symbol overflow=\"visible\" id=\"glyph0-8\">\n",
       "<path style=\"stroke:none;\" d=\"M 6.21875 -0.125 L 6.21875 -5.078125 C 6.21875 -6.15625 5.28125 -7 4.015625 -7 C 3.03125 -7 2.3125 -6.578125 1.734375 -5.65625 L 1.96875 -5.578125 L 1.96875 -6.8125 L 0.734375 -6.8125 L 0.734375 0 L 2.03125 0 L 2.03125 -3.734375 C 2.03125 -5.078125 2.640625 -5.828125 3.703125 -5.828125 C 4.53125 -5.828125 4.90625 -5.453125 4.90625 -4.65625 L 4.90625 0 L 6.21875 0 Z M 6.21875 -0.125 \"/>\n",
       "</symbol>\n",
       "<symbol overflow=\"visible\" id=\"glyph0-9\">\n",
       "<path style=\"stroke:none;\" d=\"\"/>\n",
       "</symbol>\n",
       "<symbol overflow=\"visible\" id=\"glyph0-10\">\n",
       "<path style=\"stroke:none;\" d=\"M 5.96875 -6.8125 L 4.765625 -6.8125 L 2.90625 -1.578125 L 3.15625 -1.578125 L 1.453125 -6.8125 L 0.0625 -6.8125 L 2.328125 -0.09375 L 1.921875 0.9375 C 1.75 1.40625 1.671875 1.4375 1.21875 1.4375 C 1.078125 1.4375 0.90625 1.40625 0.53125 1.34375 L 0.53125 2.515625 C 0.78125 2.640625 1.09375 2.71875 1.375 2.71875 C 2.109375 2.71875 2.84375 2.1875 3.1875 1.25 L 6.15625 -6.8125 Z M 5.96875 -6.8125 \"/>\n",
       "</symbol>\n",
       "<symbol overflow=\"visible\" id=\"glyph0-11\">\n",
       "<path style=\"stroke:none;\" d=\"M 6.8125 -0.15625 L 6.8125 -1.09375 C 6.578125 -1.046875 6.53125 -1.046875 6.46875 -1.046875 C 6.09375 -1.046875 6.03125 -1.09375 6.03125 -1.421875 L 6.03125 -5.078125 C 6.03125 -6.234375 5.046875 -7 3.4375 -7 C 1.84375 -7 0.734375 -6.25 0.65625 -4.609375 L 1.96875 -4.609375 C 2.078125 -5.53125 2.421875 -5.78125 3.40625 -5.78125 C 4.34375 -5.78125 4.71875 -5.546875 4.71875 -4.921875 L 4.71875 -4.65625 C 4.71875 -4.21875 4.59375 -4.15625 3.78125 -4.0625 C 2.296875 -3.875 2.078125 -3.828125 1.671875 -3.65625 C 0.90625 -3.34375 0.390625 -2.625 0.390625 -1.828125 C 0.390625 -0.640625 1.34375 0.1875 2.671875 0.1875 C 3.515625 0.1875 4.40625 -0.203125 4.828125 -0.640625 C 4.875 -0.40625 5.46875 0.09375 5.96875 0.09375 C 6.1875 0.09375 6.34375 0.0625 6.8125 -0.046875 Z M 4.71875 -2.390625 C 4.71875 -1.453125 3.90625 -0.984375 2.90625 -0.984375 C 2.09375 -0.984375 1.734375 -1.140625 1.734375 -1.84375 C 1.734375 -2.53125 2.078125 -2.71875 3.1875 -2.875 C 4.28125 -3.03125 4.515625 -3.078125 4.71875 -3.171875 Z M 4.71875 -2.390625 \"/>\n",
       "</symbol>\n",
       "<symbol overflow=\"visible\" id=\"glyph0-12\">\n",
       "<path style=\"stroke:none;\" d=\"M 4.140625 -5.765625 L 4.140625 -6.9375 C 3.84375 -6.984375 3.75 -7 3.609375 -7 C 2.9375 -7 2.328125 -6.546875 1.71875 -5.578125 L 1.953125 -5.484375 L 1.953125 -6.8125 L 0.734375 -6.8125 L 0.734375 0 L 2.03125 0 L 2.03125 -3.53125 C 2.03125 -5 2.40625 -5.609375 4.140625 -5.640625 Z M 4.140625 -5.765625 \"/>\n",
       "</symbol>\n",
       "<symbol overflow=\"visible\" id=\"glyph0-13\">\n",
       "<path style=\"stroke:none;\" d=\"M 5.859375 -1.96875 C 5.859375 -2.9375 5.1875 -3.5625 3.890625 -3.875 L 2.890625 -4.109375 C 2.03125 -4.3125 1.796875 -4.453125 1.796875 -4.90625 C 1.796875 -5.515625 2.21875 -5.78125 3.0625 -5.78125 C 3.90625 -5.78125 4.21875 -5.53125 4.234375 -4.71875 L 5.59375 -4.71875 C 5.59375 -6.140625 4.609375 -7 3.09375 -7 C 1.578125 -7 0.453125 -6.078125 0.453125 -4.859375 C 0.453125 -3.84375 1.109375 -3.21875 2.65625 -2.84375 L 3.640625 -2.609375 C 4.359375 -2.4375 4.515625 -2.34375 4.515625 -1.875 C 4.515625 -1.265625 4.03125 -1.03125 3.125 -1.03125 C 2.1875 -1.03125 1.78125 -1.125 1.640625 -2.265625 L 0.28125 -2.265625 C 0.34375 -0.609375 1.328125 0.1875 3.03125 0.1875 C 4.6875 0.1875 5.859375 -0.703125 5.859375 -1.96875 Z M 5.859375 -1.96875 \"/>\n",
       "</symbol>\n",
       "<symbol overflow=\"visible\" id=\"glyph0-14\">\n",
       "<path style=\"stroke:none;\" d=\"M 4.46875 -0.125 L 4.46875 -9.125 L 3.515625 -9.125 C 3.09375 -7.625 2.96875 -7.578125 1.140625 -7.34375 L 1.140625 -6.3125 L 3.09375 -6.3125 L 3.09375 0 L 4.46875 0 Z M 4.46875 -0.125 \"/>\n",
       "</symbol>\n",
       "<symbol overflow=\"visible\" id=\"glyph0-15\">\n",
       "<path style=\"stroke:none;\" d=\"M 6.484375 -4.765625 C 6.484375 -7.53125 5.40625 -9.125 3.375 -9.125 C 1.6875 -9.125 0.34375 -7.78125 0.34375 -6.046875 C 0.34375 -4.40625 1.59375 -3.15625 3.203125 -3.15625 C 4.03125 -3.15625 4.734375 -3.5 5.3125 -4.1875 L 5.09375 -4.28125 C 5.078125 -2.109375 4.515625 -1.046875 3.25 -1.046875 C 2.46875 -1.046875 2.0625 -1.40625 1.859375 -2.390625 L 0.5 -2.390625 C 0.734375 -0.796875 1.828125 0.1875 3.171875 0.1875 C 5.25 0.1875 6.484375 -1.703125 6.484375 -4.765625 Z M 5.03125 -6.078125 C 5.03125 -4.984375 4.40625 -4.40625 3.328125 -4.40625 C 2.265625 -4.40625 1.71875 -4.953125 1.71875 -6.140625 C 1.71875 -7.265625 2.34375 -7.90625 3.359375 -7.90625 C 4.390625 -7.90625 5.03125 -7.21875 5.03125 -6.078125 Z M 5.03125 -6.078125 \"/>\n",
       "</symbol>\n",
       "<symbol overflow=\"visible\" id=\"glyph0-16\">\n",
       "<path style=\"stroke:none;\" d=\"M 6.625 -2.25 L 6.625 -3.375 L 5.3125 -3.375 L 5.3125 -9.125 L 4.296875 -9.125 L 0.21875 -3.453125 L 0.21875 -2.125 L 3.953125 -2.125 L 3.953125 0 L 5.3125 0 L 5.3125 -2.125 L 6.625 -2.125 Z M 4.09375 -3.375 L 1.5625 -3.375 L 4.171875 -7.03125 L 3.953125 -7.109375 L 3.953125 -3.375 Z M 4.09375 -3.375 \"/>\n",
       "</symbol>\n",
       "<symbol overflow=\"visible\" id=\"glyph0-17\">\n",
       "<path style=\"stroke:none;\" d=\"M 6.53125 -2.625 C 6.53125 -3.609375 5.90625 -4.4375 5.140625 -4.796875 C 5.890625 -5.25 6.21875 -5.78125 6.21875 -6.625 C 6.21875 -8.015625 5.015625 -9.125 3.4375 -9.125 C 1.875 -9.125 0.640625 -8.015625 0.640625 -6.625 C 0.640625 -5.796875 0.96875 -5.265625 1.71875 -4.796875 C 0.96875 -4.4375 0.328125 -3.609375 0.328125 -2.640625 C 0.328125 -1.015625 1.6875 0.1875 3.4375 0.1875 C 5.1875 0.1875 6.53125 -1.015625 6.53125 -2.625 Z M 4.84375 -6.59375 C 4.84375 -5.78125 4.359375 -5.359375 3.4375 -5.359375 C 2.515625 -5.359375 2.03125 -5.78125 2.03125 -6.609375 C 2.03125 -7.46875 2.515625 -7.890625 3.4375 -7.890625 C 4.375 -7.890625 4.84375 -7.46875 4.84375 -6.59375 Z M 5.15625 -2.609375 C 5.15625 -1.5625 4.53125 -1.046875 3.40625 -1.046875 C 2.34375 -1.046875 1.71875 -1.578125 1.71875 -2.609375 C 1.71875 -3.65625 2.34375 -4.171875 3.4375 -4.171875 C 4.53125 -4.171875 5.15625 -3.65625 5.15625 -2.609375 Z M 5.15625 -2.609375 \"/>\n",
       "</symbol>\n",
       "<symbol overflow=\"visible\" id=\"glyph0-18\">\n",
       "<path style=\"stroke:none;\" d=\"M 6.515625 -6.390625 C 6.515625 -7.890625 5.21875 -9.125 3.546875 -9.125 C 1.734375 -9.125 0.546875 -8.0625 0.484375 -5.78125 L 1.84375 -5.78125 C 1.9375 -7.40625 2.421875 -7.90625 3.515625 -7.90625 C 4.515625 -7.90625 5.125 -7.3125 5.125 -6.359375 C 5.125 -5.65625 4.75 -5.15625 3.96875 -4.703125 L 2.8125 -4.046875 C 0.96875 -3 0.390625 -2.078125 0.28125 0 L 6.453125 0 L 6.453125 -1.34375 L 1.8125 -1.34375 C 1.90625 -1.9375 2.265625 -2.3125 3.34375 -2.953125 L 4.59375 -3.625 C 5.84375 -4.28125 6.515625 -5.296875 6.515625 -6.390625 Z M 6.515625 -6.390625 \"/>\n",
       "</symbol>\n",
       "<symbol overflow=\"visible\" id=\"glyph0-19\">\n",
       "<path style=\"stroke:none;\" d=\"M 6.46875 -4.390625 C 6.46875 -7.46875 5.359375 -9.125 3.4375 -9.125 C 1.53125 -9.125 0.40625 -7.4375 0.40625 -4.46875 C 0.40625 -1.46875 1.53125 0.1875 3.4375 0.1875 C 5.3125 0.1875 6.46875 -1.46875 6.46875 -4.390625 Z M 5.078125 -4.484375 C 5.078125 -1.96875 4.640625 -0.984375 3.40625 -0.984375 C 2.25 -0.984375 1.78125 -2.03125 1.78125 -4.453125 C 1.78125 -6.875 2.25 -7.890625 3.4375 -7.890625 C 4.625 -7.890625 5.078125 -6.859375 5.078125 -4.484375 Z M 5.078125 -4.484375 \"/>\n",
       "</symbol>\n",
       "<symbol overflow=\"visible\" id=\"glyph1-0\">\n",
       "<path style=\"stroke:none;\" d=\"\"/>\n",
       "</symbol>\n",
       "<symbol overflow=\"visible\" id=\"glyph1-1\">\n",
       "<path style=\"stroke:none;\" d=\"M -0.125 -8.171875 L -9.375 -8.171875 L -9.375 -6.75 L -5.4375 -6.75 L -5.4375 -2.328125 L -9.375 -2.328125 L -9.375 -0.90625 L 0 -0.90625 L 0 -2.328125 L -4.15625 -2.328125 L -4.15625 -6.75 L 0 -6.75 L 0 -8.171875 Z M -0.125 -8.171875 \"/>\n",
       "</symbol>\n",
       "<symbol overflow=\"visible\" id=\"glyph1-2\">\n",
       "<path style=\"stroke:none;\" d=\"M -3.09375 -6.53125 C -4.046875 -6.53125 -4.65625 -6.46875 -5.140625 -6.28125 C -6.21875 -5.84375 -7 -4.71875 -7 -3.5 C -7 -1.671875 -5.515625 -0.359375 -3.359375 -0.359375 C -1.21875 -0.359375 0.1875 -1.640625 0.1875 -3.46875 C 0.1875 -4.96875 -0.78125 -6.140625 -2.25 -6.421875 L -2.25 -5.125 C -1.25 -4.796875 -1.03125 -4.34375 -1.03125 -3.515625 C -1.03125 -2.421875 -1.59375 -1.734375 -2.96875 -1.71875 L -2.96875 -6.53125 Z M -3.9375 -5.390625 C -3.9375 -5.390625 -4.0625 -5.203125 -4.09375 -5.21875 L -4.09375 -1.75 C -5.109375 -1.828125 -5.78125 -2.4375 -5.78125 -3.484375 C -5.78125 -4.515625 -5.046875 -5.15625 -4.03125 -5.15625 Z M -3.9375 -5.390625 \"/>\n",
       "</symbol>\n",
       "<symbol overflow=\"visible\" id=\"glyph1-3\">\n",
       "<path style=\"stroke:none;\" d=\"M -0.125 -2.03125 L -6.8125 -2.03125 L -6.8125 -0.734375 L 0 -0.734375 L 0 -2.03125 Z M -7.65625 -2.171875 L -9.09375 -2.171875 L -9.09375 -0.609375 L -7.53125 -0.609375 L -7.53125 -2.171875 Z M -7.65625 -2.171875 \"/>\n",
       "</symbol>\n",
       "<symbol overflow=\"visible\" id=\"glyph1-4\">\n",
       "<path style=\"stroke:none;\" d=\"M -1.203125 -6.234375 L -6.8125 -6.234375 L -6.8125 -5.015625 L -5.71875 -5.015625 L -5.8125 -5.234375 C -6.59375 -4.71875 -7 -3.984375 -7 -3.15625 C -7 -1.484375 -5.46875 -0.21875 -3.34375 -0.21875 C -1.28125 -0.21875 0.1875 -1.53125 0.1875 -3.0625 C 0.1875 -3.890625 -0.203125 -4.546875 -1.03125 -5.234375 L -1.109375 -5.015625 L -0.671875 -5.015625 C 1.0625 -5.015625 1.59375 -4.4375 1.59375 -3.21875 C 1.59375 -2.40625 1.421875 -1.890625 0.484375 -1.734375 L 0.484375 -0.421875 C 1.859375 -0.546875 2.71875 -1.65625 2.71875 -3.1875 C 2.71875 -5.234375 1.6875 -6.234375 -1.203125 -6.234375 Z M -3.359375 -4.90625 C -1.796875 -4.90625 -1.03125 -4.375 -1.03125 -3.28125 C -1.03125 -2.140625 -1.8125 -1.578125 -3.40625 -1.578125 C -4.96875 -1.578125 -5.78125 -2.15625 -5.78125 -3.265625 C -5.78125 -4.390625 -4.953125 -4.90625 -3.359375 -4.90625 Z M -3.359375 -4.90625 \"/>\n",
       "</symbol>\n",
       "<symbol overflow=\"visible\" id=\"glyph1-5\">\n",
       "<path style=\"stroke:none;\" d=\"M -0.125 -6.203125 L -5.078125 -6.203125 C -6.171875 -6.203125 -7 -5.28125 -7 -4.015625 C -7 -3.09375 -6.65625 -2.421875 -5.859375 -1.8125 L -5.78125 -2.03125 L -9.375 -2.03125 L -9.375 -0.734375 L 0 -0.734375 L 0 -2.03125 L -3.734375 -2.03125 C -5.078125 -2.03125 -5.828125 -2.609375 -5.828125 -3.6875 C -5.828125 -4.421875 -5.53125 -4.90625 -4.65625 -4.90625 L 0 -4.90625 L 0 -6.203125 Z M -0.125 -6.203125 \"/>\n",
       "</symbol>\n",
       "<symbol overflow=\"visible\" id=\"glyph1-6\">\n",
       "<path style=\"stroke:none;\" d=\"M -0.125 -3.296875 L -1.171875 -3.296875 C -1.09375 -3.03125 -1.09375 -2.875 -1.09375 -2.671875 C -1.09375 -2.21875 -1.078125 -2.21875 -1.53125 -2.21875 L -5.703125 -2.21875 L -5.703125 -3.296875 L -6.8125 -3.296875 L -6.8125 -2.21875 L -8.609375 -2.21875 L -8.609375 -0.921875 L -6.8125 -0.921875 L -6.8125 -0.03125 L -5.703125 -0.03125 L -5.703125 -0.921875 L -1.078125 -0.921875 C -0.40625 -0.921875 0.09375 -1.515625 0.09375 -2.328125 C 0.09375 -2.578125 0.0625 -2.828125 -0.015625 -3.296875 Z M -0.125 -3.296875 \"/>\n",
       "</symbol>\n",
       "<symbol overflow=\"visible\" id=\"glyph1-7\">\n",
       "<path style=\"stroke:none;\" d=\"\"/>\n",
       "</symbol>\n",
       "<symbol overflow=\"visible\" id=\"glyph1-8\">\n",
       "<path style=\"stroke:none;\" d=\"M -0.125 -6.3125 L -9.375 -6.3125 L -9.375 -5.015625 L -5.84375 -5.015625 L -5.9375 -5.234375 C -6.59375 -4.796875 -7 -4.015625 -7 -3.140625 C -7 -1.4375 -5.546875 -0.1875 -3.46875 -0.1875 C -1.25 -0.1875 0.1875 -1.40625 0.1875 -3.171875 C 0.1875 -4.078125 -0.1875 -4.78125 -1 -5.34375 L -1.09375 -5.125 L 0 -5.125 L 0 -6.3125 Z M -3.375 -5.015625 C -1.859375 -5.015625 -1.046875 -4.421875 -1.046875 -3.328125 C -1.046875 -2.171875 -1.875 -1.53125 -3.40625 -1.53125 C -4.921875 -1.53125 -5.765625 -2.171875 -5.765625 -3.3125 C -5.765625 -4.4375 -4.890625 -5.015625 -3.375 -5.015625 Z M -3.375 -5.015625 \"/>\n",
       "</symbol>\n",
       "<symbol overflow=\"visible\" id=\"glyph1-9\">\n",
       "<path style=\"stroke:none;\" d=\"M -5.828125 -3.34375 L -6.8125 -3.34375 L -6.8125 -2.265625 L -7.703125 -2.265625 C -8.140625 -2.265625 -8.234375 -2.390625 -8.234375 -2.859375 C -8.234375 -2.953125 -8.234375 -2.984375 -8.21875 -3.34375 L -9.3125 -3.34375 C -9.40625 -2.984375 -9.40625 -2.84375 -9.40625 -2.640625 C -9.40625 -1.671875 -8.71875 -0.96875 -7.78125 -0.96875 L -6.8125 -0.96875 L -6.8125 -0.09375 L -5.703125 -0.09375 L -5.703125 -0.96875 L 0 -0.96875 L 0 -2.265625 L -5.703125 -2.265625 L -5.703125 -3.34375 Z M -5.828125 -3.34375 \"/>\n",
       "</symbol>\n",
       "<symbol overflow=\"visible\" id=\"glyph1-10\">\n",
       "<path style=\"stroke:none;\" d=\"M -5.765625 -4.140625 L -6.9375 -4.140625 C -6.984375 -3.84375 -7 -3.75 -7 -3.609375 C -7 -2.9375 -6.546875 -2.328125 -5.578125 -1.71875 L -5.484375 -1.953125 L -6.8125 -1.953125 L -6.8125 -0.734375 L 0 -0.734375 L 0 -2.03125 L -3.53125 -2.03125 C -5 -2.03125 -5.609375 -2.40625 -5.640625 -4.140625 Z M -5.765625 -4.140625 \"/>\n",
       "</symbol>\n",
       "<symbol overflow=\"visible\" id=\"glyph1-11\">\n",
       "<path style=\"stroke:none;\" d=\"M -0.125 -6.21875 L -5.078125 -6.21875 C -6.15625 -6.21875 -7 -5.28125 -7 -4.015625 C -7 -3.03125 -6.578125 -2.3125 -5.65625 -1.734375 L -5.578125 -1.96875 L -6.8125 -1.96875 L -6.8125 -0.734375 L 0 -0.734375 L 0 -2.03125 L -3.734375 -2.03125 C -5.078125 -2.03125 -5.828125 -2.640625 -5.828125 -3.703125 C -5.828125 -4.53125 -5.453125 -4.90625 -4.65625 -4.90625 L 0 -4.90625 L 0 -6.21875 Z M -0.125 -6.21875 \"/>\n",
       "</symbol>\n",
       "<symbol overflow=\"visible\" id=\"glyph1-12\">\n",
       "<path style=\"stroke:none;\" d=\"M -2.515625 -5.96875 L -2.515625 -4.796875 C -1.328125 -4.59375 -1.03125 -4.203125 -1.03125 -3.3125 C -1.03125 -2.15625 -1.78125 -1.59375 -3.34375 -1.59375 C -4.96875 -1.59375 -5.78125 -2.15625 -5.78125 -3.28125 C -5.78125 -4.15625 -5.390625 -4.578125 -4.34375 -4.71875 L -4.34375 -6.03125 C -6.078125 -5.890625 -7 -4.765625 -7 -3.296875 C -7 -1.53125 -5.515625 -0.25 -3.34375 -0.25 C -1.21875 -0.25 0.1875 -1.515625 0.1875 -3.28125 C 0.1875 -4.84375 -0.875 -5.96875 -2.515625 -6.09375 Z M -2.515625 -5.96875 \"/>\n",
       "</symbol>\n",
       "<symbol overflow=\"visible\" id=\"glyph1-13\">\n",
       "<path style=\"stroke:none;\" d=\"M -0.125 -9.625 L -5.03125 -9.625 C -6.21875 -9.625 -7 -8.84375 -7 -7.625 C -7 -6.75 -6.6875 -6.125 -6.09375 -5.625 C -6.65625 -5.3125 -7 -4.703125 -7 -3.84375 C -7 -2.96875 -6.625 -2.296875 -5.84375 -1.734375 L -5.75 -1.96875 L -6.8125 -1.96875 L -6.8125 -0.75 L 0 -0.75 L 0 -2.046875 L -4.234375 -2.046875 C -5.1875 -2.046875 -5.828125 -2.609375 -5.828125 -3.46875 C -5.828125 -4.234375 -5.46875 -4.53125 -4.640625 -4.53125 L 0 -4.53125 L 0 -5.84375 L -4.234375 -5.84375 C -5.1875 -5.84375 -5.828125 -6.40625 -5.828125 -7.265625 C -5.828125 -8.03125 -5.46875 -8.328125 -4.640625 -8.328125 L 0 -8.328125 L 0 -9.625 Z M -0.125 -9.625 \"/>\n",
       "</symbol>\n",
       "<symbol overflow=\"visible\" id=\"glyph1-14\">\n",
       "<path style=\"stroke:none;\" d=\"M -3.125 -3.671875 L -4.15625 -3.671875 L -4.15625 -0.4375 L -3 -0.4375 L -3 -3.671875 Z M -3.125 -3.671875 \"/>\n",
       "</symbol>\n",
       "<symbol overflow=\"visible\" id=\"glyph1-15\">\n",
       "<path style=\"stroke:none;\" d=\"M -0.125 -4.46875 L -9.125 -4.46875 L -9.125 -3.515625 C -7.625 -3.09375 -7.578125 -2.96875 -7.34375 -1.140625 L -6.3125 -1.140625 L -6.3125 -3.09375 L 0 -3.09375 L 0 -4.46875 Z M -0.125 -4.46875 \"/>\n",
       "</symbol>\n",
       "<symbol overflow=\"visible\" id=\"glyph1-16\">\n",
       "<path style=\"stroke:none;\" d=\"M -4.390625 -6.46875 C -7.46875 -6.46875 -9.125 -5.359375 -9.125 -3.4375 C -9.125 -1.53125 -7.4375 -0.40625 -4.46875 -0.40625 C -1.46875 -0.40625 0.1875 -1.53125 0.1875 -3.4375 C 0.1875 -5.3125 -1.46875 -6.46875 -4.390625 -6.46875 Z M -4.484375 -5.078125 C -1.96875 -5.078125 -0.984375 -4.640625 -0.984375 -3.40625 C -0.984375 -2.25 -2.03125 -1.78125 -4.453125 -1.78125 C -6.875 -1.78125 -7.890625 -2.25 -7.890625 -3.4375 C -7.890625 -4.625 -6.859375 -5.078125 -4.484375 -5.078125 Z M -4.484375 -5.078125 \"/>\n",
       "</symbol>\n",
       "</g>\n",
       "</defs>\n",
       "<g id=\"surface191\">\n",
       "<rect x=\"0\" y=\"0\" width=\"288\" height=\"216\" style=\"fill:rgb(100%,100%,100%);fill-opacity:1;stroke:none;\"/>\n",
       "<path style=\"fill-rule:nonzero;fill:rgb(74.509804%,74.509804%,74.509804%);fill-opacity:1;stroke-width:1;stroke-linecap:round;stroke-linejoin:round;stroke:rgb(0%,0%,0%);stroke-opacity:1;stroke-miterlimit:10;\" d=\"M 66.398438 100.800781 L 76.082031 100.800781 L 76.082031 107.226562 L 66.398438 107.226562 Z M 66.398438 100.800781 \"/>\n",
       "<path style=\"fill-rule:nonzero;fill:rgb(74.509804%,74.509804%,74.509804%);fill-opacity:1;stroke-width:1;stroke-linecap:round;stroke-linejoin:round;stroke:rgb(0%,0%,0%);stroke-opacity:1;stroke-miterlimit:10;\" d=\"M 78.019531 104.011719 L 87.703125 104.011719 L 87.703125 107.222656 L 78.019531 107.222656 Z M 78.019531 104.011719 \"/>\n",
       "<path style=\"fill-rule:nonzero;fill:rgb(74.509804%,74.509804%,74.509804%);fill-opacity:1;stroke-width:1;stroke-linecap:round;stroke-linejoin:round;stroke:rgb(0%,0%,0%);stroke-opacity:1;stroke-miterlimit:10;\" d=\"M 89.640625 104.011719 L 99.324219 104.011719 L 99.324219 107.222656 L 89.640625 107.222656 Z M 89.640625 104.011719 \"/>\n",
       "<path style=\"fill-rule:nonzero;fill:rgb(74.509804%,74.509804%,74.509804%);fill-opacity:1;stroke-width:1;stroke-linecap:round;stroke-linejoin:round;stroke:rgb(0%,0%,0%);stroke-opacity:1;stroke-miterlimit:10;\" d=\"M 101.261719 104.011719 L 110.945312 104.011719 L 110.945312 107.222656 L 101.261719 107.222656 Z M 101.261719 104.011719 \"/>\n",
       "<path style=\"fill-rule:nonzero;fill:rgb(74.509804%,74.509804%,74.509804%);fill-opacity:1;stroke-width:1;stroke-linecap:round;stroke-linejoin:round;stroke:rgb(0%,0%,0%);stroke-opacity:1;stroke-miterlimit:10;\" d=\"M 112.882812 65.464844 L 122.566406 65.464844 L 122.566406 107.226562 L 112.882812 107.226562 Z M 112.882812 65.464844 \"/>\n",
       "<path style=\"fill-rule:nonzero;fill:rgb(74.509804%,74.509804%,74.509804%);fill-opacity:1;stroke-width:1;stroke-linecap:round;stroke-linejoin:round;stroke:rgb(0%,0%,0%);stroke-opacity:1;stroke-miterlimit:10;\" d=\"M 124.503906 100.800781 L 134.1875 100.800781 L 134.1875 107.226562 L 124.503906 107.226562 Z M 124.503906 100.800781 \"/>\n",
       "<path style=\"fill-rule:nonzero;fill:rgb(74.509804%,74.509804%,74.509804%);fill-opacity:1;stroke-width:1;stroke-linecap:round;stroke-linejoin:round;stroke:rgb(0%,0%,0%);stroke-opacity:1;stroke-miterlimit:10;\" d=\"M 136.125 107.226562 L 145.808594 107.226562 L 145.808594 116.863281 L 136.125 116.863281 Z M 136.125 107.226562 \"/>\n",
       "<path style=\"fill-rule:nonzero;fill:rgb(74.509804%,74.509804%,74.509804%);fill-opacity:1;stroke-width:1;stroke-linecap:round;stroke-linejoin:round;stroke:rgb(0%,0%,0%);stroke-opacity:1;stroke-miterlimit:10;\" d=\"M 147.746094 107.226562 L 157.429688 107.226562 L 157.429688 126.5 L 147.746094 126.5 Z M 147.746094 107.226562 \"/>\n",
       "<path style=\"fill-rule:nonzero;fill:rgb(74.509804%,74.509804%,74.509804%);fill-opacity:1;stroke-width:1;stroke-linecap:round;stroke-linejoin:round;stroke:rgb(0%,0%,0%);stroke-opacity:1;stroke-miterlimit:10;\" d=\"M 159.367188 81.527344 L 169.050781 81.527344 L 169.050781 107.226562 L 159.367188 107.226562 Z M 159.367188 81.527344 \"/>\n",
       "<path style=\"fill-rule:nonzero;fill:rgb(74.509804%,74.509804%,74.509804%);fill-opacity:1;stroke-width:1;stroke-linecap:round;stroke-linejoin:round;stroke:rgb(0%,0%,0%);stroke-opacity:1;stroke-miterlimit:10;\" d=\"M 170.988281 91.164062 L 180.671875 91.164062 L 180.671875 107.226562 L 170.988281 107.226562 Z M 170.988281 91.164062 \"/>\n",
       "<path style=\"fill-rule:nonzero;fill:rgb(74.509804%,74.509804%,74.509804%);fill-opacity:1;stroke-width:1;stroke-linecap:round;stroke-linejoin:round;stroke:rgb(0%,0%,0%);stroke-opacity:1;stroke-miterlimit:10;\" d=\"M 182.609375 59.039062 L 192.292969 59.039062 L 192.292969 107.222656 L 182.609375 107.222656 Z M 182.609375 59.039062 \"/>\n",
       "<path style=\"fill-rule:nonzero;fill:rgb(74.509804%,74.509804%,74.509804%);fill-opacity:1;stroke-width:1;stroke-linecap:round;stroke-linejoin:round;stroke:rgb(0%,0%,0%);stroke-opacity:1;stroke-miterlimit:10;\" d=\"M 194.230469 104.011719 L 203.914062 104.011719 L 203.914062 107.222656 L 194.230469 107.222656 Z M 194.230469 104.011719 \"/>\n",
       "<path style=\"fill-rule:nonzero;fill:rgb(74.509804%,74.509804%,74.509804%);fill-opacity:1;stroke-width:1;stroke-linecap:round;stroke-linejoin:round;stroke:rgb(0%,0%,0%);stroke-opacity:1;stroke-miterlimit:10;\" d=\"M 205.851562 100.800781 L 215.535156 100.800781 L 215.535156 107.226562 L 205.851562 107.226562 Z M 205.851562 100.800781 \"/>\n",
       "<path style=\"fill-rule:nonzero;fill:rgb(74.509804%,74.509804%,74.509804%);fill-opacity:1;stroke-width:1;stroke-linecap:round;stroke-linejoin:round;stroke:rgb(0%,0%,0%);stroke-opacity:1;stroke-miterlimit:10;\" d=\"M 217.472656 107.226562 L 227.15625 107.226562 L 227.15625 116.863281 L 217.472656 116.863281 Z M 217.472656 107.226562 \"/>\n",
       "<path style=\"fill-rule:nonzero;fill:rgb(74.509804%,74.509804%,74.509804%);fill-opacity:1;stroke-width:1;stroke-linecap:round;stroke-linejoin:round;stroke:rgb(0%,0%,0%);stroke-opacity:1;stroke-miterlimit:10;\" d=\"M 229.09375 107.226562 L 238.777344 107.226562 L 238.777344 142.5625 L 229.09375 142.5625 Z M 229.09375 107.226562 \"/>\n",
       "<path style=\"fill-rule:nonzero;fill:rgb(74.509804%,74.509804%,74.509804%);fill-opacity:1;stroke-width:1;stroke-linecap:round;stroke-linejoin:round;stroke:rgb(0%,0%,0%);stroke-opacity:1;stroke-miterlimit:10;\" d=\"M 240.714844 75.101562 L 250.398438 75.101562 L 250.398438 107.226562 L 240.714844 107.226562 Z M 240.714844 75.101562 \"/>\n",
       "<g style=\"fill:rgb(0%,0%,0%);fill-opacity:1;\">\n",
       "  <use xlink:href=\"#glyph0-1\" x=\"80.921875\" y=\"198.71875\"/>\n",
       "  <use xlink:href=\"#glyph0-2\" x=\"89.259399\" y=\"198.71875\"/>\n",
       "  <use xlink:href=\"#glyph0-3\" x=\"92.034409\" y=\"198.71875\"/>\n",
       "  <use xlink:href=\"#glyph0-4\" x=\"98.984436\" y=\"198.71875\"/>\n",
       "  <use xlink:href=\"#glyph0-5\" x=\"105.234467\" y=\"198.71875\"/>\n",
       "  <use xlink:href=\"#glyph0-6\" x=\"108.709473\" y=\"198.71875\"/>\n",
       "  <use xlink:href=\"#glyph0-7\" x=\"111.484482\" y=\"198.71875\"/>\n",
       "  <use xlink:href=\"#glyph0-8\" x=\"118.434509\" y=\"198.71875\"/>\n",
       "  <use xlink:href=\"#glyph0-9\" x=\"125.384537\" y=\"198.71875\"/>\n",
       "  <use xlink:href=\"#glyph0-10\" x=\"128.859543\" y=\"198.71875\"/>\n",
       "  <use xlink:href=\"#glyph0-3\" x=\"135.109573\" y=\"198.71875\"/>\n",
       "  <use xlink:href=\"#glyph0-11\" x=\"142.059601\" y=\"198.71875\"/>\n",
       "  <use xlink:href=\"#glyph0-12\" x=\"149.009628\" y=\"198.71875\"/>\n",
       "  <use xlink:href=\"#glyph0-13\" x=\"153.17215\" y=\"198.71875\"/>\n",
       "  <use xlink:href=\"#glyph0-9\" x=\"159.42218\" y=\"198.71875\"/>\n",
       "  <use xlink:href=\"#glyph0-14\" x=\"162.897186\" y=\"198.71875\"/>\n",
       "  <use xlink:href=\"#glyph0-15\" x=\"169.847214\" y=\"198.71875\"/>\n",
       "  <use xlink:href=\"#glyph0-16\" x=\"176.797241\" y=\"198.71875\"/>\n",
       "  <use xlink:href=\"#glyph0-17\" x=\"183.747269\" y=\"198.71875\"/>\n",
       "  <use xlink:href=\"#glyph0-9\" x=\"190.697296\" y=\"198.71875\"/>\n",
       "  <use xlink:href=\"#glyph0-5\" x=\"194.172302\" y=\"198.71875\"/>\n",
       "  <use xlink:href=\"#glyph0-7\" x=\"197.647308\" y=\"198.71875\"/>\n",
       "  <use xlink:href=\"#glyph0-9\" x=\"204.597336\" y=\"198.71875\"/>\n",
       "  <use xlink:href=\"#glyph0-18\" x=\"208.072342\" y=\"198.71875\"/>\n",
       "  <use xlink:href=\"#glyph0-19\" x=\"215.022369\" y=\"198.71875\"/>\n",
       "  <use xlink:href=\"#glyph0-19\" x=\"221.972397\" y=\"198.71875\"/>\n",
       "  <use xlink:href=\"#glyph0-17\" x=\"228.922424\" y=\"198.71875\"/>\n",
       "</g>\n",
       "<g style=\"fill:rgb(0%,0%,0%);fill-opacity:1;\">\n",
       "  <use xlink:href=\"#glyph1-1\" x=\"14.398438\" y=\"164.714844\"/>\n",
       "  <use xlink:href=\"#glyph1-2\" x=\"14.398438\" y=\"155.689804\"/>\n",
       "  <use xlink:href=\"#glyph1-3\" x=\"14.398438\" y=\"148.739777\"/>\n",
       "  <use xlink:href=\"#glyph1-4\" x=\"14.398438\" y=\"145.964767\"/>\n",
       "  <use xlink:href=\"#glyph1-5\" x=\"14.398438\" y=\"139.01474\"/>\n",
       "  <use xlink:href=\"#glyph1-6\" x=\"14.398438\" y=\"132.064713\"/>\n",
       "  <use xlink:href=\"#glyph1-7\" x=\"14.398438\" y=\"128.589706\"/>\n",
       "  <use xlink:href=\"#glyph1-8\" x=\"14.398438\" y=\"125.1147\"/>\n",
       "  <use xlink:href=\"#glyph1-3\" x=\"14.398438\" y=\"118.164673\"/>\n",
       "  <use xlink:href=\"#glyph1-9\" x=\"14.398438\" y=\"115.389664\"/>\n",
       "  <use xlink:href=\"#glyph1-9\" x=\"14.398438\" y=\"111.914658\"/>\n",
       "  <use xlink:href=\"#glyph1-2\" x=\"14.398438\" y=\"108.439651\"/>\n",
       "  <use xlink:href=\"#glyph1-10\" x=\"14.398438\" y=\"101.489624\"/>\n",
       "  <use xlink:href=\"#glyph1-2\" x=\"14.398438\" y=\"97.327103\"/>\n",
       "  <use xlink:href=\"#glyph1-11\" x=\"14.398438\" y=\"90.377075\"/>\n",
       "  <use xlink:href=\"#glyph1-12\" x=\"14.398438\" y=\"83.427048\"/>\n",
       "  <use xlink:href=\"#glyph1-2\" x=\"14.398438\" y=\"77.177017\"/>\n",
       "  <use xlink:href=\"#glyph1-7\" x=\"14.398438\" y=\"70.22699\"/>\n",
       "  <use xlink:href=\"#glyph1-3\" x=\"14.398438\" y=\"66.751984\"/>\n",
       "  <use xlink:href=\"#glyph1-11\" x=\"14.398438\" y=\"63.976974\"/>\n",
       "  <use xlink:href=\"#glyph1-7\" x=\"14.398438\" y=\"57.026947\"/>\n",
       "  <use xlink:href=\"#glyph1-12\" x=\"14.398438\" y=\"53.551941\"/>\n",
       "  <use xlink:href=\"#glyph1-13\" x=\"14.398438\" y=\"47.30191\"/>\n",
       "</g>\n",
       "<path style=\"fill:none;stroke-width:1;stroke-linecap:round;stroke-linejoin:round;stroke:rgb(0%,0%,0%);stroke-opacity:1;stroke-miterlimit:10;\" d=\"M 59.039062 139.347656 L 59.039062 59.039062 \"/>\n",
       "<path style=\"fill:none;stroke-width:1;stroke-linecap:round;stroke-linejoin:round;stroke:rgb(0%,0%,0%);stroke-opacity:1;stroke-miterlimit:10;\" d=\"M 59.039062 139.347656 L 51.839844 139.347656 \"/>\n",
       "<path style=\"fill:none;stroke-width:1;stroke-linecap:round;stroke-linejoin:round;stroke:rgb(0%,0%,0%);stroke-opacity:1;stroke-miterlimit:10;\" d=\"M 59.039062 123.285156 L 51.839844 123.285156 \"/>\n",
       "<path style=\"fill:none;stroke-width:1;stroke-linecap:round;stroke-linejoin:round;stroke:rgb(0%,0%,0%);stroke-opacity:1;stroke-miterlimit:10;\" d=\"M 59.039062 107.226562 L 51.839844 107.226562 \"/>\n",
       "<path style=\"fill:none;stroke-width:1;stroke-linecap:round;stroke-linejoin:round;stroke:rgb(0%,0%,0%);stroke-opacity:1;stroke-miterlimit:10;\" d=\"M 59.039062 91.164062 L 51.839844 91.164062 \"/>\n",
       "<path style=\"fill:none;stroke-width:1;stroke-linecap:round;stroke-linejoin:round;stroke:rgb(0%,0%,0%);stroke-opacity:1;stroke-miterlimit:10;\" d=\"M 59.039062 75.101562 L 51.839844 75.101562 \"/>\n",
       "<path style=\"fill:none;stroke-width:1;stroke-linecap:round;stroke-linejoin:round;stroke:rgb(0%,0%,0%);stroke-opacity:1;stroke-miterlimit:10;\" d=\"M 59.039062 59.039062 L 51.839844 59.039062 \"/>\n",
       "<g style=\"fill:rgb(0%,0%,0%);fill-opacity:1;\">\n",
       "  <use xlink:href=\"#glyph1-14\" x=\"43.199219\" y=\"148.378906\"/>\n",
       "  <use xlink:href=\"#glyph1-15\" x=\"43.199219\" y=\"144.216385\"/>\n",
       "  <use xlink:href=\"#glyph1-16\" x=\"43.199219\" y=\"137.266357\"/>\n",
       "</g>\n",
       "<g style=\"fill:rgb(0%,0%,0%);fill-opacity:1;\">\n",
       "  <use xlink:href=\"#glyph1-16\" x=\"43.199219\" y=\"110.703125\"/>\n",
       "</g>\n",
       "<g style=\"fill:rgb(0%,0%,0%);fill-opacity:1;\">\n",
       "  <use xlink:href=\"#glyph1-15\" x=\"43.199219\" y=\"82.050781\"/>\n",
       "  <use xlink:href=\"#glyph1-16\" x=\"43.199219\" y=\"75.100754\"/>\n",
       "</g>\n",
       "</g>\n",
       "</svg>\n"
      ]
     },
     "metadata": {
      "image/svg+xml": {
       "isolated": true
      }
     },
     "output_type": "display_data"
    }
   ],
   "source": [
    "barplot(rev(difference), xlab = \"Election years 1948 to 2008\", ylab = \"Height difference in cm\")"
   ]
  },
  {
   "cell_type": "markdown",
   "metadata": {},
   "source": [
    "Example 1.3: Horsekicks. This data set appears in severals book. In the late 19th century, Prussian officers collected data on deaths of soldiers in 10 calvary corps recording fatalities due to horsekicks over a 20 year period. The 200 values are summarized in Table"
   ]
  },
  {
   "cell_type": "code",
   "execution_count": 27,
   "metadata": {},
   "outputs": [
    {
     "data": {
      "image/jpeg": "[encoded data removed]",
      "image/png": "",
      "image/svg+xml": [
       "<?xml version=\"1.0\" encoding=\"UTF-8\"?>\n",
       "<svg xmlns=\"http://www.w3.org/2000/svg\" xmlns:xlink=\"http://www.w3.org/1999/xlink\" width=\"288pt\" height=\"216pt\" viewBox=\"0 0 288 216\" version=\"1.1\">\n",
       "<defs>\n",
       "<g>\n",
       "<symbol overflow=\"visible\" id=\"glyph0-0\">\n",
       "<path style=\"stroke:none;\" d=\"\"/>\n",
       "</symbol>\n",
       "<symbol overflow=\"visible\" id=\"glyph0-1\">\n",
       "<path style=\"stroke:none;\" d=\"M 6.46875 -4.390625 C 6.46875 -7.46875 5.359375 -9.125 3.4375 -9.125 C 1.53125 -9.125 0.40625 -7.4375 0.40625 -4.46875 C 0.40625 -1.46875 1.53125 0.1875 3.4375 0.1875 C 5.3125 0.1875 6.46875 -1.46875 6.46875 -4.390625 Z M 5.078125 -4.484375 C 5.078125 -1.96875 4.640625 -0.984375 3.40625 -0.984375 C 2.25 -0.984375 1.78125 -2.03125 1.78125 -4.453125 C 1.78125 -6.875 2.25 -7.890625 3.4375 -7.890625 C 4.625 -7.890625 5.078125 -6.859375 5.078125 -4.484375 Z M 5.078125 -4.484375 \"/>\n",
       "</symbol>\n",
       "<symbol overflow=\"visible\" id=\"glyph0-2\">\n",
       "<path style=\"stroke:none;\" d=\"M 4.46875 -0.125 L 4.46875 -9.125 L 3.515625 -9.125 C 3.09375 -7.625 2.96875 -7.578125 1.140625 -7.34375 L 1.140625 -6.3125 L 3.09375 -6.3125 L 3.09375 0 L 4.46875 0 Z M 4.46875 -0.125 \"/>\n",
       "</symbol>\n",
       "<symbol overflow=\"visible\" id=\"glyph0-3\">\n",
       "<path style=\"stroke:none;\" d=\"M 6.515625 -6.390625 C 6.515625 -7.890625 5.21875 -9.125 3.546875 -9.125 C 1.734375 -9.125 0.546875 -8.0625 0.484375 -5.78125 L 1.84375 -5.78125 C 1.9375 -7.40625 2.421875 -7.90625 3.515625 -7.90625 C 4.515625 -7.90625 5.125 -7.3125 5.125 -6.359375 C 5.125 -5.65625 4.75 -5.15625 3.96875 -4.703125 L 2.8125 -4.046875 C 0.96875 -3 0.390625 -2.078125 0.28125 0 L 6.453125 0 L 6.453125 -1.34375 L 1.8125 -1.34375 C 1.90625 -1.9375 2.265625 -2.3125 3.34375 -2.953125 L 4.59375 -3.625 C 5.84375 -4.28125 6.515625 -5.296875 6.515625 -6.390625 Z M 6.515625 -6.390625 \"/>\n",
       "</symbol>\n",
       "<symbol overflow=\"visible\" id=\"glyph0-4\">\n",
       "<path style=\"stroke:none;\" d=\"M 6.453125 -2.703125 C 6.453125 -3.78125 5.890625 -4.53125 4.828125 -4.90625 L 4.828125 -4.640625 C 5.65625 -4.96875 6.1875 -5.65625 6.1875 -6.546875 C 6.1875 -8.078125 5.046875 -9.125 3.359375 -9.125 C 1.578125 -9.125 0.484375 -8.015625 0.453125 -6 L 1.8125 -6 C 1.84375 -7.4375 2.25 -7.90625 3.375 -7.90625 C 4.34375 -7.90625 4.796875 -7.453125 4.796875 -6.515625 C 4.796875 -5.5625 4.53125 -5.3125 2.625 -5.3125 L 2.625 -4.125 L 3.359375 -4.125 C 4.578125 -4.125 5.0625 -3.671875 5.0625 -2.6875 C 5.0625 -1.578125 4.515625 -1.046875 3.359375 -1.046875 C 2.15625 -1.046875 1.703125 -1.515625 1.609375 -2.9375 L 0.25 -2.9375 C 0.40625 -0.828125 1.515625 0.1875 3.328125 0.1875 C 5.15625 0.1875 6.453125 -1.03125 6.453125 -2.703125 Z M 6.453125 -2.703125 \"/>\n",
       "</symbol>\n",
       "<symbol overflow=\"visible\" id=\"glyph0-5\">\n",
       "<path style=\"stroke:none;\" d=\"M 6.625 -2.25 L 6.625 -3.375 L 5.3125 -3.375 L 5.3125 -9.125 L 4.296875 -9.125 L 0.21875 -3.453125 L 0.21875 -2.125 L 3.953125 -2.125 L 3.953125 0 L 5.3125 0 L 5.3125 -2.125 L 6.625 -2.125 Z M 4.09375 -3.375 L 1.5625 -3.375 L 4.171875 -7.03125 L 3.953125 -7.109375 L 3.953125 -3.375 Z M 4.09375 -3.375 \"/>\n",
       "</symbol>\n",
       "<symbol overflow=\"visible\" id=\"glyph1-0\">\n",
       "<path style=\"stroke:none;\" d=\"\"/>\n",
       "</symbol>\n",
       "<symbol overflow=\"visible\" id=\"glyph1-1\">\n",
       "<path style=\"stroke:none;\" d=\"M -4.390625 -6.46875 C -7.46875 -6.46875 -9.125 -5.359375 -9.125 -3.4375 C -9.125 -1.53125 -7.4375 -0.40625 -4.46875 -0.40625 C -1.46875 -0.40625 0.1875 -1.53125 0.1875 -3.4375 C 0.1875 -5.3125 -1.46875 -6.46875 -4.390625 -6.46875 Z M -4.484375 -5.078125 C -1.96875 -5.078125 -0.984375 -4.640625 -0.984375 -3.40625 C -0.984375 -2.25 -2.03125 -1.78125 -4.453125 -1.78125 C -6.875 -1.78125 -7.890625 -2.25 -7.890625 -3.4375 C -7.890625 -4.625 -6.859375 -5.078125 -4.484375 -5.078125 Z M -4.484375 -5.078125 \"/>\n",
       "</symbol>\n",
       "<symbol overflow=\"visible\" id=\"glyph1-2\">\n",
       "<path style=\"stroke:none;\" d=\"M -2.25 -6.625 L -3.375 -6.625 L -3.375 -5.3125 L -9.125 -5.3125 L -9.125 -4.296875 L -3.453125 -0.21875 L -2.125 -0.21875 L -2.125 -3.953125 L 0 -3.953125 L 0 -5.3125 L -2.125 -5.3125 L -2.125 -6.625 Z M -3.375 -4.09375 L -3.375 -1.5625 L -7.03125 -4.171875 L -7.109375 -3.953125 L -3.375 -3.953125 Z M -3.375 -4.09375 \"/>\n",
       "</symbol>\n",
       "<symbol overflow=\"visible\" id=\"glyph1-3\">\n",
       "<path style=\"stroke:none;\" d=\"M -2.625 -6.53125 C -3.609375 -6.53125 -4.4375 -5.90625 -4.796875 -5.140625 C -5.25 -5.890625 -5.78125 -6.21875 -6.625 -6.21875 C -8.015625 -6.21875 -9.125 -5.015625 -9.125 -3.4375 C -9.125 -1.875 -8.015625 -0.640625 -6.625 -0.640625 C -5.796875 -0.640625 -5.265625 -0.96875 -4.796875 -1.71875 C -4.4375 -0.96875 -3.609375 -0.328125 -2.640625 -0.328125 C -1.015625 -0.328125 0.1875 -1.6875 0.1875 -3.4375 C 0.1875 -5.1875 -1.015625 -6.53125 -2.625 -6.53125 Z M -6.59375 -4.84375 C -5.78125 -4.84375 -5.359375 -4.359375 -5.359375 -3.4375 C -5.359375 -2.515625 -5.78125 -2.03125 -6.609375 -2.03125 C -7.46875 -2.03125 -7.890625 -2.515625 -7.890625 -3.4375 C -7.890625 -4.375 -7.46875 -4.84375 -6.59375 -4.84375 Z M -2.609375 -5.15625 C -1.5625 -5.15625 -1.046875 -4.53125 -1.046875 -3.40625 C -1.046875 -2.34375 -1.578125 -1.71875 -2.609375 -1.71875 C -3.65625 -1.71875 -4.171875 -2.34375 -4.171875 -3.4375 C -4.171875 -4.53125 -3.65625 -5.15625 -2.609375 -5.15625 Z M -2.609375 -5.15625 \"/>\n",
       "</symbol>\n",
       "</g>\n",
       "</defs>\n",
       "<g id=\"surface235\">\n",
       "<rect x=\"0\" y=\"0\" width=\"288\" height=\"216\" style=\"fill:rgb(100%,100%,100%);fill-opacity:1;stroke:none;\"/>\n",
       "<path style=\"fill-rule:nonzero;fill:rgb(74.509804%,74.509804%,74.509804%);fill-opacity:1;stroke-width:1;stroke-linecap:round;stroke-linejoin:round;stroke:rgb(0%,0%,0%);stroke-opacity:1;stroke-miterlimit:10;\" d=\"M 66.398438 59.039062 L 98.121094 59.039062 L 98.121094 141.730469 L 66.398438 141.730469 Z M 66.398438 59.039062 \"/>\n",
       "<path style=\"fill-rule:nonzero;fill:rgb(74.509804%,74.509804%,74.509804%);fill-opacity:1;stroke-width:1;stroke-linecap:round;stroke-linejoin:round;stroke:rgb(0%,0%,0%);stroke-opacity:1;stroke-miterlimit:10;\" d=\"M 104.46875 92.421875 L 136.191406 92.421875 L 136.191406 141.734375 L 104.46875 141.734375 Z M 104.46875 92.421875 \"/>\n",
       "<path style=\"fill-rule:nonzero;fill:rgb(74.509804%,74.509804%,74.509804%);fill-opacity:1;stroke-width:1;stroke-linecap:round;stroke-linejoin:round;stroke:rgb(0%,0%,0%);stroke-opacity:1;stroke-miterlimit:10;\" d=\"M 142.539062 125.042969 L 174.261719 125.042969 L 174.261719 141.734375 L 142.539062 141.734375 Z M 142.539062 125.042969 \"/>\n",
       "<path style=\"fill-rule:nonzero;fill:rgb(74.509804%,74.509804%,74.509804%);fill-opacity:1;stroke-width:1;stroke-linecap:round;stroke-linejoin:round;stroke:rgb(0%,0%,0%);stroke-opacity:1;stroke-miterlimit:10;\" d=\"M 180.605469 139.457031 L 212.328125 139.457031 L 212.328125 141.734375 L 180.605469 141.734375 Z M 180.605469 139.457031 \"/>\n",
       "<path style=\"fill-rule:nonzero;fill:rgb(74.509804%,74.509804%,74.509804%);fill-opacity:1;stroke-width:1;stroke-linecap:round;stroke-linejoin:round;stroke:rgb(0%,0%,0%);stroke-opacity:1;stroke-miterlimit:10;\" d=\"M 218.675781 140.972656 L 250.398438 140.972656 L 250.398438 141.730469 L 218.675781 141.730469 Z M 218.675781 140.972656 \"/>\n",
       "<g style=\"fill:rgb(0%,0%,0%);fill-opacity:1;\">\n",
       "  <use xlink:href=\"#glyph0-1\" x=\"78.785156\" y=\"169.921875\"/>\n",
       "</g>\n",
       "<g style=\"fill:rgb(0%,0%,0%);fill-opacity:1;\">\n",
       "  <use xlink:href=\"#glyph0-2\" x=\"116.855469\" y=\"169.921875\"/>\n",
       "</g>\n",
       "<g style=\"fill:rgb(0%,0%,0%);fill-opacity:1;\">\n",
       "  <use xlink:href=\"#glyph0-3\" x=\"154.921875\" y=\"169.921875\"/>\n",
       "</g>\n",
       "<g style=\"fill:rgb(0%,0%,0%);fill-opacity:1;\">\n",
       "  <use xlink:href=\"#glyph0-4\" x=\"192.992188\" y=\"169.921875\"/>\n",
       "</g>\n",
       "<g style=\"fill:rgb(0%,0%,0%);fill-opacity:1;\">\n",
       "  <use xlink:href=\"#glyph0-5\" x=\"231.0625\" y=\"169.921875\"/>\n",
       "</g>\n",
       "<path style=\"fill:none;stroke-width:1;stroke-linecap:round;stroke-linejoin:round;stroke:rgb(0%,0%,0%);stroke-opacity:1;stroke-miterlimit:10;\" d=\"M 59.039062 141.734375 L 59.039062 65.867188 \"/>\n",
       "<path style=\"fill:none;stroke-width:1;stroke-linecap:round;stroke-linejoin:round;stroke:rgb(0%,0%,0%);stroke-opacity:1;stroke-miterlimit:10;\" d=\"M 59.039062 141.734375 L 51.839844 141.734375 \"/>\n",
       "<path style=\"fill:none;stroke-width:1;stroke-linecap:round;stroke-linejoin:round;stroke:rgb(0%,0%,0%);stroke-opacity:1;stroke-miterlimit:10;\" d=\"M 59.039062 126.558594 L 51.839844 126.558594 \"/>\n",
       "<path style=\"fill:none;stroke-width:1;stroke-linecap:round;stroke-linejoin:round;stroke:rgb(0%,0%,0%);stroke-opacity:1;stroke-miterlimit:10;\" d=\"M 59.039062 111.386719 L 51.839844 111.386719 \"/>\n",
       "<path style=\"fill:none;stroke-width:1;stroke-linecap:round;stroke-linejoin:round;stroke:rgb(0%,0%,0%);stroke-opacity:1;stroke-miterlimit:10;\" d=\"M 59.039062 96.214844 L 51.839844 96.214844 \"/>\n",
       "<path style=\"fill:none;stroke-width:1;stroke-linecap:round;stroke-linejoin:round;stroke:rgb(0%,0%,0%);stroke-opacity:1;stroke-miterlimit:10;\" d=\"M 59.039062 81.039062 L 51.839844 81.039062 \"/>\n",
       "<path style=\"fill:none;stroke-width:1;stroke-linecap:round;stroke-linejoin:round;stroke:rgb(0%,0%,0%);stroke-opacity:1;stroke-miterlimit:10;\" d=\"M 59.039062 65.867188 L 51.839844 65.867188 \"/>\n",
       "<g style=\"fill:rgb(0%,0%,0%);fill-opacity:1;\">\n",
       "  <use xlink:href=\"#glyph1-1\" x=\"43.199219\" y=\"145.210938\"/>\n",
       "</g>\n",
       "<g style=\"fill:rgb(0%,0%,0%);fill-opacity:1;\">\n",
       "  <use xlink:href=\"#glyph1-2\" x=\"43.199219\" y=\"118.335938\"/>\n",
       "  <use xlink:href=\"#glyph1-1\" x=\"43.199219\" y=\"111.38591\"/>\n",
       "</g>\n",
       "<g style=\"fill:rgb(0%,0%,0%);fill-opacity:1;\">\n",
       "  <use xlink:href=\"#glyph1-3\" x=\"43.199219\" y=\"87.988281\"/>\n",
       "  <use xlink:href=\"#glyph1-1\" x=\"43.199219\" y=\"81.038254\"/>\n",
       "</g>\n",
       "</g>\n",
       "</svg>\n"
      ]
     },
     "metadata": {
      "image/svg+xml": {
       "isolated": true
      }
     },
     "output_type": "display_data"
    }
   ],
   "source": [
    "k = c(0,1,2,3,4)\n",
    "x = c(109, 65, 22, 3, 1)\n",
    "barplot(x,names.arg = k)"
   ]
  },
  {
   "cell_type": "code",
   "execution_count": 31,
   "metadata": {},
   "outputs": [
    {
     "data": {
      "text/html": [
       "<ol class=list-inline>\n",
       "\t<li>0.545</li>\n",
       "\t<li>0.325</li>\n",
       "\t<li>0.11</li>\n",
       "\t<li>0.015</li>\n",
       "\t<li>0.005</li>\n",
       "</ol>\n"
      ],
      "text/latex": [
       "\\begin{enumerate*}\n",
       "\\item 0.545\n",
       "\\item 0.325\n",
       "\\item 0.11\n",
       "\\item 0.015\n",
       "\\item 0.005\n",
       "\\end{enumerate*}\n"
      ],
      "text/markdown": [
       "1. 0.545\n",
       "2. 0.325\n",
       "3. 0.11\n",
       "4. 0.015\n",
       "5. 0.005\n",
       "\n",
       "\n"
      ],
      "text/plain": [
       "[1] 0.545 0.325 0.110 0.015 0.005"
      ]
     },
     "metadata": {},
     "output_type": "display_data"
    }
   ],
   "source": [
    "#Calculate the sample proportion of x which is death counts 0 to 4\n",
    "p = x/ sum(x)\n",
    "p"
   ]
  },
  {
   "cell_type": "code",
   "execution_count": null,
   "metadata": {},
   "outputs": [],
   "source": []
  },
  {
   "cell_type": "code",
   "execution_count": null,
   "metadata": {},
   "outputs": [],
   "source": []
  },
  {
   "cell_type": "code",
   "execution_count": null,
   "metadata": {},
   "outputs": [],
   "source": []
  },
  {
   "cell_type": "code",
   "execution_count": 1,
   "metadata": {},
   "outputs": [
    {
     "data": {
      "text/html": [
       "0.323333333333334"
      ],
      "text/latex": [
       "0.323333333333334"
      ],
      "text/markdown": [
       "0.323333333333334"
      ],
      "text/plain": [
       "[1] 0.3233333"
      ]
     },
     "metadata": {},
     "output_type": "display_data"
    },
    {
     "data": {
      "text/html": [
       "0.242500000000001"
      ],
      "text/latex": [
       "0.242500000000001"
      ],
      "text/markdown": [
       "0.242500000000001"
      ],
      "text/plain": [
       "[1] 0.2425"
      ]
     },
     "metadata": {},
     "output_type": "display_data"
    }
   ],
   "source": [
    "var.n = function(x) {\n",
    "    v = var(x)\n",
    "    n = NROW(x)\n",
    "    v * (n-1)/n\n",
    "}\n",
    "\n",
    "temps = c(51.9, 51.8, 51.9, 53)\n",
    "var(temps)\n",
    "\n",
    "var.n(temps)"
   ]
  },
  {
   "cell_type": "markdown",
   "metadata": {},
   "source": [
    "*** Many of the available R functions require functions as arguments.  An example is the integrate function, which\n",
    "implements numerical integration; one must supply the integrand as an argument. Suppose that we need to compute the beta function, which is defined as ***\n",
    "![img](https://latex.codecogs.com/gif.latex?B%28a%2Cb%29%20%3D%20%5Cint_%7B0%7D%5E%7B1%7D%20x%5E%7Ba-1%7D%281-x%29%5E%7Bb-1%7Ddx)\n",
    "\n",
    "for constants a > 0 and b > 0. First we write a function that returns the integrand evaluated at a given point x. The additional arguments a and b specify the exponents.\n",
    "\n"
   ]
  },
  {
   "cell_type": "code",
   "execution_count": 9,
   "metadata": {},
   "outputs": [
    {
     "data": {
      "text/html": [
       "<ol class=list-inline>\n",
       "\t<li>0</li>\n",
       "\t<li>0.16</li>\n",
       "\t<li>0.24</li>\n",
       "\t<li>0.24</li>\n",
       "\t<li>0.16</li>\n",
       "\t<li>0</li>\n",
       "</ol>\n"
      ],
      "text/latex": [
       "\\begin{enumerate*}\n",
       "\\item 0\n",
       "\\item 0.16\n",
       "\\item 0.24\n",
       "\\item 0.24\n",
       "\\item 0.16\n",
       "\\item 0\n",
       "\\end{enumerate*}\n"
      ],
      "text/markdown": [
       "1. 0\n",
       "2. 0.16\n",
       "3. 0.24\n",
       "4. 0.24\n",
       "5. 0.16\n",
       "6. 0\n",
       "\n",
       "\n"
      ],
      "text/plain": [
       "[1] 0.00 0.16 0.24 0.24 0.16 0.00"
      ]
     },
     "metadata": {},
     "output_type": "display_data"
    },
    {
     "data": {
      "text/plain": [
       "0.1666667 with absolute error < 1.9e-15"
      ]
     },
     "metadata": {},
     "output_type": "display_data"
    }
   ],
   "source": [
    "f = function(x, a=1, b=1)\n",
    "    x^(a-1)*(1-x)^(b-1)\n",
    "\n",
    "x = seq(0,1,.2)\n",
    "f(x, a=2, b=2)\n",
    "\n",
    "integrate(f, lower = 0, upper = 1, a = 2, b=2)"
   ]
  },
  {
   "cell_type": "markdown",
   "metadata": {},
   "source": [
    "The integrate function is an example of a function syntax with extra arguments (...). The complete function syntax is <br>\n",
    "***integrate(f, lower, upper, ..., subdivisions=100,  <br>\n",
    "             rel.tol = .Machine\\$double.eps^0.25, abs.tol = rel.tol,  <br>\n",
    "             stop.on.error = TRUE, keep.xy = FALSE, aux = NULL)*** <br>\n",
    "The three dots are additional arguments to be passed to the integrand function f. In our example, these extra arguments were a and b."
   ]
  },
  {
   "cell_type": "markdown",
   "metadata": {},
   "source": [
    "### Vectors and Matrices"
   ]
  },
  {
   "cell_type": "code",
   "execution_count": 15,
   "metadata": {},
   "outputs": [
    {
     "data": {
      "text/html": [
       "<table>\n",
       "<thead><tr><th></th><th scope=col>lower</th><th scope=col>middle</th><th scope=col>upper</th></tr></thead>\n",
       "<tbody>\n",
       "\t<tr><th scope=row>lower</th><td>0.45</td><td>0.48</td><td>0.07</td></tr>\n",
       "\t<tr><th scope=row>middle</th><td>0.05</td><td>0.70</td><td>0.25</td></tr>\n",
       "\t<tr><th scope=row>upper</th><td>0.01</td><td>0.50</td><td>0.49</td></tr>\n",
       "</tbody>\n",
       "</table>\n"
      ],
      "text/latex": [
       "\\begin{tabular}{r|lll}\n",
       "  & lower & middle & upper\\\\\n",
       "\\hline\n",
       "\tlower & 0.45 & 0.48 & 0.07\\\\\n",
       "\tmiddle & 0.05 & 0.70 & 0.25\\\\\n",
       "\tupper & 0.01 & 0.50 & 0.49\\\\\n",
       "\\end{tabular}\n"
      ],
      "text/markdown": [
       "\n",
       "| <!--/--> | lower | middle | upper | \n",
       "|---|---|---|\n",
       "| lower | 0.45 | 0.48 | 0.07 | \n",
       "| middle | 0.05 | 0.70 | 0.25 | \n",
       "| upper | 0.01 | 0.50 | 0.49 | \n",
       "\n",
       "\n"
      ],
      "text/plain": [
       "       lower middle upper\n",
       "lower  0.45  0.48   0.07 \n",
       "middle 0.05  0.70   0.25 \n",
       "upper  0.01  0.50   0.49 "
      ]
     },
     "metadata": {},
     "output_type": "display_data"
    },
    {
     "name": "stdout",
     "output_type": "stream",
     "text": [
      "[1] \"Row Sum\"\n",
      " lower middle  upper \n",
      "     1      1      1 \n"
     ]
    }
   ],
   "source": [
    "probs = c(.45, .05, .01, .48, .70, .50, .07, .25, .49)\n",
    "P = matrix(probs, nrow = 3, ncol = 3)\n",
    "rownames(P) <- colnames(P) <- c(\"lower\", \"middle\", \"upper\")\n",
    "P\n",
    "print(\"Row Sum\")\n",
    "print(rowSums(P))"
   ]
  },
  {
   "cell_type": "markdown",
   "metadata": {},
   "source": [
    "### Importing Data"
   ]
  },
  {
   "cell_type": "markdown",
   "metadata": {},
   "source": [
    "#### Importing from a text file\n",
    "```R\n",
    "lunatics = read.table(\"lunatics.txt\", header = TRUE)\n",
    "\n",
    "For the .csv files\n",
    "    lunatics = read.table(\"lunatics.csv\", header = TRUE, sep = \",\")\n",
    "    or \n",
    "    lunatics = read.csv(\"lunatics.csv\")\n",
    "```\n",
    "#### Importing from Internet\n",
    "```R\n",
    "pidigits = read.table(\"http://www.itl.nist.gov/div898/strd/univ/data/PiDigits.dat\", skip=60) #Read the data starting at line 61\n",
    "head(pidigits)\n",
    "```"
   ]
  },
  {
   "cell_type": "code",
   "execution_count": 19,
   "metadata": {},
   "outputs": [
    {
     "data": {
      "text/plain": [
       "pidigits\n",
       "  0   1   2   3   4   5   6   7   8   9 \n",
       "466 531 496 461 508 525 513 488 491 521 "
      ]
     },
     "metadata": {},
     "output_type": "display_data"
    },
    {
     "data": {
      "text/plain": [
       "pidigits\n",
       "     0      1      2      3      4      5      6      7      8      9 \n",
       "0.0932 0.1062 0.0992 0.0922 0.1016 0.1050 0.1026 0.0976 0.0982 0.1042 "
      ]
     },
     "metadata": {},
     "output_type": "display_data"
    }
   ],
   "source": [
    "pidigits = read.table(\"http://www.itl.nist.gov/div898/strd/univ/data/PiDigits.dat\", skip=60)\n",
    "table(pidigits) #The digits can be summarized in a table by the table function and summarized graphically in a plot.\n",
    "prop = table(pidigits)/5000 #proportions\n",
    "prop"
   ]
  },
  {
   "cell_type": "code",
   "execution_count": null,
   "metadata": {},
   "outputs": [],
   "source": []
  }
 ],
 "metadata": {
  "kernelspec": {
   "display_name": "R",
   "language": "R",
   "name": "r"
  },
  "language_info": {
   "codemirror_mode": "r",
   "file_extension": ".r",
   "mimetype": "text/x-r-source",
   "name": "R",
   "pygments_lexer": "r",
   "version": "3.4.1"
  }
 },
 "nbformat": 4,
 "nbformat_minor": 2
}

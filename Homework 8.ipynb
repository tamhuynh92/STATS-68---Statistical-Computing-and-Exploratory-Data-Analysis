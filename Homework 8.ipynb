{
 "cells": [
  {
   "cell_type": "markdown",
   "metadata": {},
   "source": [
    "__8.1 (Comparing average gas mileage).__ <br> A table of gas mileages on four\n",
    "new models of Japanese luxury cars is given in Larsen & Marx [30, Question 12.1.1], which is shown in Table 1.4, page 27. See Example 1.11 for a\n",
    "method of entering this data. Test if the four models (A, B, C, D) give the\n",
    "same gas mileage, on average, at α = 0.05 significance."
   ]
  },
  {
   "cell_type": "code",
   "execution_count": 3,
   "metadata": {},
   "outputs": [
    {
     "data": {
      "text/html": [
       "<table>\n",
       "<thead><tr><th scope=col>y</th><th scope=col>Model</th></tr></thead>\n",
       "<tbody>\n",
       "\t<tr><td>22</td><td>A </td></tr>\n",
       "\t<tr><td>26</td><td>A </td></tr>\n",
       "\t<tr><td>28</td><td>B </td></tr>\n",
       "\t<tr><td>24</td><td>B </td></tr>\n",
       "\t<tr><td>29</td><td>B </td></tr>\n",
       "\t<tr><td>29</td><td>C </td></tr>\n",
       "\t<tr><td>32</td><td>C </td></tr>\n",
       "\t<tr><td>28</td><td>C </td></tr>\n",
       "\t<tr><td>23</td><td>D </td></tr>\n",
       "\t<tr><td>24</td><td>D </td></tr>\n",
       "</tbody>\n",
       "</table>\n"
      ],
      "text/latex": [
       "\\begin{tabular}{r|ll}\n",
       " y & Model\\\\\n",
       "\\hline\n",
       "\t 22 & A \\\\\n",
       "\t 26 & A \\\\\n",
       "\t 28 & B \\\\\n",
       "\t 24 & B \\\\\n",
       "\t 29 & B \\\\\n",
       "\t 29 & C \\\\\n",
       "\t 32 & C \\\\\n",
       "\t 28 & C \\\\\n",
       "\t 23 & D \\\\\n",
       "\t 24 & D \\\\\n",
       "\\end{tabular}\n"
      ],
      "text/markdown": [
       "\n",
       "y | Model | \n",
       "|---|---|---|---|---|---|---|---|---|---|\n",
       "| 22 | A  | \n",
       "| 26 | A  | \n",
       "| 28 | B  | \n",
       "| 24 | B  | \n",
       "| 29 | B  | \n",
       "| 29 | C  | \n",
       "| 32 | C  | \n",
       "| 28 | C  | \n",
       "| 23 | D  | \n",
       "| 24 | D  | \n",
       "\n",
       "\n"
      ],
      "text/plain": [
       "   y  Model\n",
       "1  22 A    \n",
       "2  26 A    \n",
       "3  28 B    \n",
       "4  24 B    \n",
       "5  29 B    \n",
       "6  29 C    \n",
       "7  32 C    \n",
       "8  28 C    \n",
       "9  23 D    \n",
       "10 24 D    "
      ]
     },
     "metadata": {},
     "output_type": "display_data"
    }
   ],
   "source": [
    "y1 = c(22, 26)\n",
    "y2 = c(28, 24, 29)\n",
    "y3 = c(29, 32, 28)\n",
    "y4 = c(23, 24)\n",
    "y = c(y1, y2, y3, y4)\n",
    "Model = c(rep(\"A\", 2), rep(\"B\", 3), rep(\"C\", 3), rep(\"D\", 2))\n",
    "mileages = data.frame(y, Model)\n",
    "mileages"
   ]
  },
  {
   "cell_type": "code",
   "execution_count": 11,
   "metadata": {},
   "outputs": [
    {
     "data": {
      "text/html": [
       "TRUE"
      ],
      "text/latex": [
       "TRUE"
      ],
      "text/markdown": [
       "TRUE"
      ],
      "text/plain": [
       "[1] TRUE"
      ]
     },
     "metadata": {},
     "output_type": "display_data"
    },
    {
     "data": {
      "text/html": [
       "<ol class=list-inline>\n",
       "\t<li>'A'</li>\n",
       "\t<li>'B'</li>\n",
       "\t<li>'C'</li>\n",
       "\t<li>'D'</li>\n",
       "</ol>\n"
      ],
      "text/latex": [
       "\\begin{enumerate*}\n",
       "\\item 'A'\n",
       "\\item 'B'\n",
       "\\item 'C'\n",
       "\\item 'D'\n",
       "\\end{enumerate*}\n"
      ],
      "text/markdown": [
       "1. 'A'\n",
       "2. 'B'\n",
       "3. 'C'\n",
       "4. 'D'\n",
       "\n",
       "\n"
      ],
      "text/plain": [
       "[1] \"A\" \"B\" \"C\" \"D\""
      ]
     },
     "metadata": {},
     "output_type": "display_data"
    },
    {
     "data": {
      "image/png": "[encoded data removed]",
      "text/plain": [
       "plot without title"
      ]
     },
     "metadata": {},
     "output_type": "display_data"
    }
   ],
   "source": [
    "is.factor(mileages$Model)\n",
    "levels(mileages$Model)\n",
    "boxplot(y ~ Model, mileages)"
   ]
  },
  {
   "cell_type": "code",
   "execution_count": 19,
   "metadata": {},
   "outputs": [
    {
     "data": {
      "text/plain": [
       "\n",
       "\tOne-way analysis of means (not assuming equal variances)\n",
       "\n",
       "data:  y and Model\n",
       "F = 5.6927, num df = 3.0000, denom df = 2.8137, p-value = 0.1016\n"
      ]
     },
     "metadata": {},
     "output_type": "display_data"
    }
   ],
   "source": [
    "\n",
    "oneway.test(y ~ Model, mileages)"
   ]
  },
  {
   "cell_type": "markdown",
   "metadata": {},
   "source": [
    "__8.2 (Yields of plants).__ <br> The PlantGrowth data is an R dataset that contains\n",
    "results from an experiment on plant growth. The yield of a plant is measured\n",
    "by the dried weight of the plant. The experiment recorded yields of plants for\n",
    "a control group and two different treatments. After a preliminary exploratory\n",
    "data analysis, use one-way ANOVA to analyze the differences in mean yield\n",
    "for the three groups. Start with the exploratory data analysis, and also check\n",
    "model assumptions. What conclusions, if any, can be inferred from this sample\n",
    "data?"
   ]
  },
  {
   "cell_type": "code",
   "execution_count": 38,
   "metadata": {},
   "outputs": [
    {
     "data": {
      "text/html": [
       "<ol class=list-inline>\n",
       "\t<li>'ctrl'</li>\n",
       "\t<li>'trt1'</li>\n",
       "\t<li>'trt2'</li>\n",
       "</ol>\n"
      ],
      "text/latex": [
       "\\begin{enumerate*}\n",
       "\\item 'ctrl'\n",
       "\\item 'trt1'\n",
       "\\item 'trt2'\n",
       "\\end{enumerate*}\n"
      ],
      "text/markdown": [
       "1. 'ctrl'\n",
       "2. 'trt1'\n",
       "3. 'trt2'\n",
       "\n",
       "\n"
      ],
      "text/plain": [
       "[1] \"ctrl\" \"trt1\" \"trt2\""
      ]
     },
     "metadata": {},
     "output_type": "display_data"
    },
    {
     "data": {
      "text/plain": [
       "PlantGrowth$group: ctrl\n",
       "[1] 5.032\n",
       "------------------------------------------------------------ \n",
       "PlantGrowth$group: trt1\n",
       "[1] 4.661\n",
       "------------------------------------------------------------ \n",
       "PlantGrowth$group: trt2\n",
       "[1] 5.526"
      ]
     },
     "metadata": {},
     "output_type": "display_data"
    },
    {
     "data": {
      "text/plain": [
       "\n",
       "\tOne-way analysis of means (not assuming equal variances)\n",
       "\n",
       "data:  weight and group\n",
       "F = 5.181, num df = 2.000, denom df = 17.128, p-value = 0.01739\n"
      ]
     },
     "metadata": {},
     "output_type": "display_data"
    },
    {
     "data": {
      "image/png": "[encoded data removed]",
      "text/plain": [
       "plot without title"
      ]
     },
     "metadata": {},
     "output_type": "display_data"
    }
   ],
   "source": [
    "levels(PlantGrowth$group)\n",
    "\n",
    "by(PlantGrowth$weight, PlantGrowth$group, FUN = mean)\n",
    "\n",
    "boxplot(weight ~ group, PlantGrowth)\n",
    "\n",
    "oneway.test(weight ~ group, PlantGrowth)\n"
   ]
  },
  {
   "cell_type": "markdown",
   "metadata": {},
   "source": [
    "__8.3 (Differences in iris by species).__ <br> The iris data has 50 observations\n",
    "of four measurements for each of three species of iris: setosa, versicolor, and\n",
    "virginica. We are interested in possible differences in the sepal length of iris\n",
    "among the three species. Perform a preliminary analysis as in Example 8.3.\n",
    "Write the effects model for a one-way ANOVA. What are the unknown\n",
    "parameters? Next fit a one-way ANOVA model for Sepal.Length by Species\n",
    "using lm. Display the ANOVA table. What are the parameter estimates?"
   ]
  },
  {
   "cell_type": "code",
   "execution_count": 58,
   "metadata": {},
   "outputs": [
    {
     "data": {
      "text/html": [
       "<table>\n",
       "<thead><tr><th scope=col>Sepal.Length</th><th scope=col>Sepal.Width</th><th scope=col>Petal.Length</th><th scope=col>Petal.Width</th><th scope=col>Species</th></tr></thead>\n",
       "<tbody>\n",
       "\t<tr><td>5.1   </td><td>3.5   </td><td>1.4   </td><td>0.2   </td><td>setosa</td></tr>\n",
       "\t<tr><td>4.9   </td><td>3.0   </td><td>1.4   </td><td>0.2   </td><td>setosa</td></tr>\n",
       "\t<tr><td>4.7   </td><td>3.2   </td><td>1.3   </td><td>0.2   </td><td>setosa</td></tr>\n",
       "\t<tr><td>4.6   </td><td>3.1   </td><td>1.5   </td><td>0.2   </td><td>setosa</td></tr>\n",
       "\t<tr><td>5.0   </td><td>3.6   </td><td>1.4   </td><td>0.2   </td><td>setosa</td></tr>\n",
       "\t<tr><td>5.4   </td><td>3.9   </td><td>1.7   </td><td>0.4   </td><td>setosa</td></tr>\n",
       "</tbody>\n",
       "</table>\n"
      ],
      "text/latex": [
       "\\begin{tabular}{r|lllll}\n",
       " Sepal.Length & Sepal.Width & Petal.Length & Petal.Width & Species\\\\\n",
       "\\hline\n",
       "\t 5.1    & 3.5    & 1.4    & 0.2    & setosa\\\\\n",
       "\t 4.9    & 3.0    & 1.4    & 0.2    & setosa\\\\\n",
       "\t 4.7    & 3.2    & 1.3    & 0.2    & setosa\\\\\n",
       "\t 4.6    & 3.1    & 1.5    & 0.2    & setosa\\\\\n",
       "\t 5.0    & 3.6    & 1.4    & 0.2    & setosa\\\\\n",
       "\t 5.4    & 3.9    & 1.7    & 0.4    & setosa\\\\\n",
       "\\end{tabular}\n"
      ],
      "text/markdown": [
       "\n",
       "Sepal.Length | Sepal.Width | Petal.Length | Petal.Width | Species | \n",
       "|---|---|---|---|---|---|\n",
       "| 5.1    | 3.5    | 1.4    | 0.2    | setosa | \n",
       "| 4.9    | 3.0    | 1.4    | 0.2    | setosa | \n",
       "| 4.7    | 3.2    | 1.3    | 0.2    | setosa | \n",
       "| 4.6    | 3.1    | 1.5    | 0.2    | setosa | \n",
       "| 5.0    | 3.6    | 1.4    | 0.2    | setosa | \n",
       "| 5.4    | 3.9    | 1.7    | 0.4    | setosa | \n",
       "\n",
       "\n"
      ],
      "text/plain": [
       "  Sepal.Length Sepal.Width Petal.Length Petal.Width Species\n",
       "1 5.1          3.5         1.4          0.2         setosa \n",
       "2 4.9          3.0         1.4          0.2         setosa \n",
       "3 4.7          3.2         1.3          0.2         setosa \n",
       "4 4.6          3.1         1.5          0.2         setosa \n",
       "5 5.0          3.6         1.4          0.2         setosa \n",
       "6 5.4          3.9         1.7          0.4         setosa "
      ]
     },
     "metadata": {},
     "output_type": "display_data"
    },
    {
     "data": {
      "text/plain": [
       "iris$Species: setosa\n",
       "[1] 5.006\n",
       "------------------------------------------------------------ \n",
       "iris$Species: versicolor\n",
       "[1] 5.936\n",
       "------------------------------------------------------------ \n",
       "iris$Species: virginica\n",
       "[1] 6.588"
      ]
     },
     "metadata": {},
     "output_type": "display_data"
    },
    {
     "data": {
      "text/plain": [
       "\n",
       "\tOne-way analysis of means\n",
       "\n",
       "data:  iris$Sepal.Length and iris$Species\n",
       "F = 119.26, num df = 2, denom df = 147, p-value < 2.2e-16\n"
      ]
     },
     "metadata": {},
     "output_type": "display_data"
    },
    {
     "data": {
      "image/png": "[encoded data removed]",
      "text/plain": [
       "plot without title"
      ]
     },
     "metadata": {},
     "output_type": "display_data"
    }
   ],
   "source": [
    "head(iris)\n",
    "by(iris$Sepal.Length, iris$Species, FUN = mean )\n",
    "\n",
    "boxplot(iris$Sepal.Length ~ iris$Species)\n",
    "oneway.test(iris$Sepal.Length ~ iris$Species, var.equal = TRUE)"
   ]
  },
  {
   "cell_type": "code",
   "execution_count": 60,
   "metadata": {},
   "outputs": [
    {
     "data": {
      "text/plain": [
       "\n",
       "Call:\n",
       "lm(formula = iris$Sepal.Length ~ iris$Species)\n",
       "\n",
       "Coefficients:\n",
       "           (Intercept)  iris$Speciesversicolor   iris$Speciesvirginica  \n",
       "                 5.006                   0.930                   1.582  \n"
      ]
     },
     "metadata": {},
     "output_type": "display_data"
    }
   ],
   "source": [
    "L = lm(iris$Sepal.Length ~ iris$Species)\n",
    "L"
   ]
  },
  {
   "cell_type": "code",
   "execution_count": 62,
   "metadata": {},
   "outputs": [
    {
     "name": "stdout",
     "output_type": "stream",
     "text": [
      "    1     2     3     4     5     6     7     8     9    10    11    12    13 \n",
      "5.006 5.006 5.006 5.006 5.006 5.006 5.006 5.006 5.006 5.006 5.006 5.006 5.006 \n",
      "   14    15    16    17    18    19    20    21    22    23    24    25    26 \n",
      "5.006 5.006 5.006 5.006 5.006 5.006 5.006 5.006 5.006 5.006 5.006 5.006 5.006 \n",
      "   27    28    29    30    31    32    33    34    35    36    37    38    39 \n",
      "5.006 5.006 5.006 5.006 5.006 5.006 5.006 5.006 5.006 5.006 5.006 5.006 5.006 \n",
      "   40    41    42    43    44    45    46    47    48    49    50    51    52 \n",
      "5.006 5.006 5.006 5.006 5.006 5.006 5.006 5.006 5.006 5.006 5.006 5.936 5.936 \n",
      "   53    54    55    56    57    58    59    60    61    62    63    64    65 \n",
      "5.936 5.936 5.936 5.936 5.936 5.936 5.936 5.936 5.936 5.936 5.936 5.936 5.936 \n",
      "   66    67    68    69    70    71    72    73    74    75    76    77    78 \n",
      "5.936 5.936 5.936 5.936 5.936 5.936 5.936 5.936 5.936 5.936 5.936 5.936 5.936 \n",
      "   79    80    81    82    83    84    85    86    87    88    89    90    91 \n",
      "5.936 5.936 5.936 5.936 5.936 5.936 5.936 5.936 5.936 5.936 5.936 5.936 5.936 \n",
      "   92    93    94    95    96    97    98    99   100   101   102   103   104 \n",
      "5.936 5.936 5.936 5.936 5.936 5.936 5.936 5.936 5.936 6.588 6.588 6.588 6.588 \n",
      "  105   106   107   108   109   110   111   112   113   114   115   116   117 \n",
      "6.588 6.588 6.588 6.588 6.588 6.588 6.588 6.588 6.588 6.588 6.588 6.588 6.588 \n",
      "  118   119   120   121   122   123   124   125   126   127   128   129   130 \n",
      "6.588 6.588 6.588 6.588 6.588 6.588 6.588 6.588 6.588 6.588 6.588 6.588 6.588 \n",
      "  131   132   133   134   135   136   137   138   139   140   141   142   143 \n",
      "6.588 6.588 6.588 6.588 6.588 6.588 6.588 6.588 6.588 6.588 6.588 6.588 6.588 \n",
      "  144   145   146   147   148   149   150 \n",
      "6.588 6.588 6.588 6.588 6.588 6.588 6.588 \n"
     ]
    }
   ],
   "source": [
    "print(predict(L))"
   ]
  },
  {
   "cell_type": "code",
   "execution_count": 67,
   "metadata": {},
   "outputs": [
    {
     "data": {
      "text/plain": [
       "Tables of means\n",
       "Grand mean\n",
       "         \n",
       "5.843333 \n",
       "\n",
       " iris$Species \n",
       "iris$Species\n",
       "    setosa versicolor  virginica \n",
       "     5.006      5.936      6.588 "
      ]
     },
     "metadata": {},
     "output_type": "display_data"
    }
   ],
   "source": [
    "M = aov(iris$Sepal.Length ~ iris$Species)\n",
    "model.tables(M, type = \"means\")\n"
   ]
  },
  {
   "cell_type": "code",
   "execution_count": 69,
   "metadata": {},
   "outputs": [
    {
     "data": {
      "text/html": [
       "<table>\n",
       "<thead><tr><th></th><th scope=col>Df</th><th scope=col>Sum Sq</th><th scope=col>Mean Sq</th><th scope=col>F value</th><th scope=col>Pr(&gt;F)</th></tr></thead>\n",
       "<tbody>\n",
       "\t<tr><th scope=row>iris$Species</th><td>  2         </td><td>63.21213    </td><td>31.6060667  </td><td>119.2645    </td><td>1.669669e-31</td></tr>\n",
       "\t<tr><th scope=row>Residuals</th><td>147         </td><td>38.95620    </td><td> 0.2650082  </td><td>      NA    </td><td>          NA</td></tr>\n",
       "</tbody>\n",
       "</table>\n"
      ],
      "text/latex": [
       "\\begin{tabular}{r|lllll}\n",
       "  & Df & Sum Sq & Mean Sq & F value & Pr(>F)\\\\\n",
       "\\hline\n",
       "\tiris\\$Species &   2          & 63.21213     & 31.6060667   & 119.2645     & 1.669669e-31\\\\\n",
       "\tResiduals & 147          & 38.95620     &  0.2650082   &       NA     &           NA\\\\\n",
       "\\end{tabular}\n"
      ],
      "text/markdown": [
       "\n",
       "| <!--/--> | Df | Sum Sq | Mean Sq | F value | Pr(>F) | \n",
       "|---|---|\n",
       "| iris$Species |   2          | 63.21213     | 31.6060667   | 119.2645     | 1.669669e-31 | \n",
       "| Residuals | 147          | 38.95620     |  0.2650082   |       NA     |           NA | \n",
       "\n",
       "\n"
      ],
      "text/plain": [
       "             Df  Sum Sq   Mean Sq    F value  Pr(>F)      \n",
       "iris$Species   2 63.21213 31.6060667 119.2645 1.669669e-31\n",
       "Residuals    147 38.95620  0.2650082       NA           NA"
      ]
     },
     "metadata": {},
     "output_type": "display_data"
    }
   ],
   "source": [
    "options(show.signif.stars=FALSE)\n",
    "anova(L)"
   ]
  },
  {
   "cell_type": "markdown",
   "metadata": {},
   "source": [
    "__8.4 (Checking model assumptions).__ <br> Refer to your results from Exercise\n",
    "8.3. What are the assumptions required for inference? Analyze the residuals\n",
    "of the model to assess whether there is a serious departure from any of these\n",
    "assumptions. How can you check for normality of the error variable?"
   ]
  },
  {
   "cell_type": "code",
   "execution_count": 70,
   "metadata": {},
   "outputs": [
    {
     "data": {
      "image/png": "[encoded data removed]",
      "text/plain": [
       "plot without title"
      ]
     },
     "metadata": {},
     "output_type": "display_data"
    },
    {
     "data": {
      "image/png": "[encoded data removed]",
      "text/plain": [
       "Plot with title \"Normal Q-Q Plot\""
      ]
     },
     "metadata": {},
     "output_type": "display_data"
    }
   ],
   "source": [
    "plot(L$fit, L$res)\n",
    "abline(h = 0, col = \"red\")\n",
    "qqnorm(L$res)\n",
    "qqline(L$res)"
   ]
  },
  {
   "cell_type": "markdown",
   "metadata": {},
   "source": [
    "__8.5 (Cancer survival data).__ <br> The cancer survival data “PATIENT.DAT”\n",
    "was introduced in Example 8.9. Start with the exploratory data analysis,\n",
    "and check for NID error model assumptions. Consider a transformation of\n",
    "the data if the assumptions for error are not satisfied. Complete a one-way\n",
    "ANOVA to determine whether mean survival times differ by organ. If there\n",
    "are significant differences, follow up with appropriate multiple comparisons\n",
    "to determine which means differ and describe how they differ."
   ]
  },
  {
   "cell_type": "code",
   "execution_count": 9,
   "metadata": {},
   "outputs": [
    {
     "data": {
      "text/html": [
       "<table>\n",
       "<thead><tr><th scope=col>values</th><th scope=col>ind</th></tr></thead>\n",
       "<tbody>\n",
       "\t<tr><td>124    </td><td>stomach</td></tr>\n",
       "\t<tr><td> 42    </td><td>stomach</td></tr>\n",
       "\t<tr><td> 25    </td><td>stomach</td></tr>\n",
       "\t<tr><td> 45    </td><td>stomach</td></tr>\n",
       "\t<tr><td>412    </td><td>stomach</td></tr>\n",
       "\t<tr><td> 51    </td><td>stomach</td></tr>\n",
       "</tbody>\n",
       "</table>\n"
      ],
      "text/latex": [
       "\\begin{tabular}{r|ll}\n",
       " values & ind\\\\\n",
       "\\hline\n",
       "\t 124     & stomach\\\\\n",
       "\t  42     & stomach\\\\\n",
       "\t  25     & stomach\\\\\n",
       "\t  45     & stomach\\\\\n",
       "\t 412     & stomach\\\\\n",
       "\t  51     & stomach\\\\\n",
       "\\end{tabular}\n"
      ],
      "text/markdown": [
       "\n",
       "values | ind | \n",
       "|---|---|---|---|---|---|\n",
       "| 124     | stomach | \n",
       "|  42     | stomach | \n",
       "|  25     | stomach | \n",
       "|  45     | stomach | \n",
       "| 412     | stomach | \n",
       "|  51     | stomach | \n",
       "\n",
       "\n"
      ],
      "text/plain": [
       "  values ind    \n",
       "1 124    stomach\n",
       "2  42    stomach\n",
       "3  25    stomach\n",
       "4  45    stomach\n",
       "5 412    stomach\n",
       "6  51    stomach"
      ]
     },
     "metadata": {},
     "output_type": "display_data"
    }
   ],
   "source": [
    "stomach = c(124,42,25,45,412,51,1112,46,103,876,146,340,396,NA,NA,NA,NA)\n",
    "bronchus = c(81,461,20,450,246,166,63,64,155,859,151,166,37,223,138,72,245)\n",
    "colon  = c(248,377,189,1843,180,537,519,455,406,365,942,776,372,163,101,20,283)\n",
    "ovary = c(1234,89,201,356,2970,456,NA,NA,NA,NA,NA,NA,NA,NA,NA,NA,NA)\n",
    "breast = c(1235,24,1581,1166,40,727,3808,791,1804,3460,719,NA,NA,NA,NA,NA,NA)\n",
    "table  = data.frame(stomach, bronchus, colon, ovary, breast)\n",
    "table = stack(table)\n"
   ]
  },
  {
   "cell_type": "code",
   "execution_count": 14,
   "metadata": {},
   "outputs": [
    {
     "data": {
      "text/plain": [
       "table$ind: stomach\n",
       "[1] 286\n",
       "------------------------------------------------------------ \n",
       "table$ind: bronchus\n",
       "[1] 211.5882\n",
       "------------------------------------------------------------ \n",
       "table$ind: colon\n",
       "[1] 457.4118\n",
       "------------------------------------------------------------ \n",
       "table$ind: ovary\n",
       "[1] 884.3333\n",
       "------------------------------------------------------------ \n",
       "table$ind: breast\n",
       "[1] 1395.909"
      ]
     },
     "metadata": {},
     "output_type": "display_data"
    },
    {
     "data": {
      "image/png": "[encoded data removed]",
      "text/plain": [
       "plot without title"
      ]
     },
     "metadata": {},
     "output_type": "display_data"
    }
   ],
   "source": [
    "boxplot(values ~ ind, data = table)\n",
    "by(table$values, table$ind, FUN = mean, na.rm = TRUE )\n"
   ]
  },
  {
   "cell_type": "code",
   "execution_count": 16,
   "metadata": {},
   "outputs": [
    {
     "data": {
      "text/plain": [
       "\n",
       "\tOne-way analysis of means\n",
       "\n",
       "data:  table$values and table$ind\n",
       "F = 6.4334, num df = 4, denom df = 59, p-value = 0.0002295\n"
      ]
     },
     "metadata": {},
     "output_type": "display_data"
    }
   ],
   "source": [
    "oneway.test(table$values ~ table$ind, var.equal = TRUE)"
   ]
  },
  {
   "cell_type": "code",
   "execution_count": 20,
   "metadata": {},
   "outputs": [
    {
     "data": {
      "text/plain": [
       "\n",
       "Call:\n",
       "lm(formula = table$values ~ table$ind)\n",
       "\n",
       "Coefficients:\n",
       "      (Intercept)  table$indbronchus     table$indcolon     table$indovary  \n",
       "           286.00             -74.41             171.41             598.33  \n",
       "  table$indbreast  \n",
       "          1109.91  \n"
      ]
     },
     "metadata": {},
     "output_type": "display_data"
    }
   ],
   "source": [
    "L = lm(table$values ~ table$ind)\n",
    "L"
   ]
  },
  {
   "cell_type": "code",
   "execution_count": 21,
   "metadata": {},
   "outputs": [
    {
     "data": {
      "text/plain": [
       "Tables of effects\n",
       "\n",
       " table$ind \n",
       "    stomach bronchus  colon ovary breast\n",
       "     -272.6     -347 -101.2 325.7  837.3\n",
       "rep    13.0       17   17.0   6.0   11.0"
      ]
     },
     "metadata": {},
     "output_type": "display_data"
    }
   ],
   "source": [
    "M = aov(table$values ~ table$ind)\n",
    "model.tables(M, types = \"means\")"
   ]
  },
  {
   "cell_type": "code",
   "execution_count": 23,
   "metadata": {},
   "outputs": [
    {
     "data": {
      "image/png": "[encoded data removed]",
      "text/plain": [
       "plot without title"
      ]
     },
     "metadata": {},
     "output_type": "display_data"
    },
    {
     "data": {
      "image/png": "[encoded data removed]",
      "text/plain": [
       "Plot with title \"Normal Q-Q Plot\""
      ]
     },
     "metadata": {},
     "output_type": "display_data"
    }
   ],
   "source": [
    " plot(L$fit, L$res)\n",
    "abline(h = 0, lwd= 2, col = \"red\")\n",
    "\n",
    "qqnorm(L$res)\n",
    "qqline(L$res)"
   ]
  },
  {
   "cell_type": "code",
   "execution_count": 24,
   "metadata": {},
   "outputs": [
    {
     "data": {
      "text/html": [
       "<table>\n",
       "<thead><tr><th></th><th scope=col>Df</th><th scope=col>Sum Sq</th><th scope=col>Mean Sq</th><th scope=col>F value</th><th scope=col>Pr(&gt;F)</th></tr></thead>\n",
       "<tbody>\n",
       "\t<tr><th scope=row>table$ind</th><td> 4          </td><td>11535761    </td><td>2883940.1   </td><td>6.433437    </td><td>0.0002294532</td></tr>\n",
       "\t<tr><th scope=row>Residuals</th><td>59          </td><td>26448144    </td><td> 448273.6   </td><td>      NA    </td><td>          NA</td></tr>\n",
       "</tbody>\n",
       "</table>\n"
      ],
      "text/latex": [
       "\\begin{tabular}{r|lllll}\n",
       "  & Df & Sum Sq & Mean Sq & F value & Pr(>F)\\\\\n",
       "\\hline\n",
       "\ttable\\$ind &  4           & 11535761     & 2883940.1    & 6.433437     & 0.0002294532\\\\\n",
       "\tResiduals & 59           & 26448144     &  448273.6    &       NA     &           NA\\\\\n",
       "\\end{tabular}\n"
      ],
      "text/markdown": [
       "\n",
       "| <!--/--> | Df | Sum Sq | Mean Sq | F value | Pr(>F) | \n",
       "|---|---|\n",
       "| table$ind |  4           | 11535761     | 2883940.1    | 6.433437     | 0.0002294532 | \n",
       "| Residuals | 59           | 26448144     |  448273.6    |       NA     |           NA | \n",
       "\n",
       "\n"
      ],
      "text/plain": [
       "          Df Sum Sq   Mean Sq   F value  Pr(>F)      \n",
       "table$ind  4 11535761 2883940.1 6.433437 0.0002294532\n",
       "Residuals 59 26448144  448273.6       NA           NA"
      ]
     },
     "metadata": {},
     "output_type": "display_data"
    }
   ],
   "source": [
    "anova(L)"
   ]
  },
  {
   "cell_type": "code",
   "execution_count": 25,
   "metadata": {},
   "outputs": [
    {
     "data": {
      "text/plain": [
       "Call:\n",
       "   aov(formula = table$values ~ table$ind)\n",
       "\n",
       "Terms:\n",
       "                table$ind Residuals\n",
       "Sum of Squares   11535761  26448144\n",
       "Deg. of Freedom         4        59\n",
       "\n",
       "Residual standard error: 669.5324\n",
       "Estimated effects may be unbalanced\n",
       "21 observations deleted due to missingness"
      ]
     },
     "metadata": {},
     "output_type": "display_data"
    }
   ],
   "source": [
    "M"
   ]
  },
  {
   "cell_type": "code",
   "execution_count": 26,
   "metadata": {},
   "outputs": [
    {
     "data": {
      "text/plain": [
       "            Df   Sum Sq Mean Sq F value   Pr(>F)    \n",
       "table$ind    4 11535761 2883940   6.433 0.000229 ***\n",
       "Residuals   59 26448144  448274                     \n",
       "---\n",
       "Signif. codes:  0 '***' 0.001 '**' 0.01 '*' 0.05 '.' 0.1 ' ' 1\n",
       "21 observations deleted due to missingness"
      ]
     },
     "metadata": {},
     "output_type": "display_data"
    }
   ],
   "source": [
    "summary(M)"
   ]
  },
  {
   "cell_type": "code",
   "execution_count": 27,
   "metadata": {},
   "outputs": [
    {
     "data": {
      "text/plain": [
       "  Tukey multiple comparisons of means\n",
       "    95% family-wise confidence level\n",
       "\n",
       "Fit: aov(formula = table$values ~ table$ind)\n",
       "\n",
       "$`table$ind`\n",
       "                       diff       lwr       upr     p adj\n",
       "bronchus-stomach  -74.41176 -768.5540  619.7305 0.9981461\n",
       "colon-stomach     171.41176 -522.7305  865.5540 0.9568289\n",
       "ovary-stomach     598.33333 -331.5179 1528.1846 0.3772923\n",
       "breast-stomach   1109.90909  338.0792 1881.7390 0.0013962\n",
       "colon-bronchus    245.82353 -400.3877  892.0348 0.8208402\n",
       "ovary-bronchus    672.74510 -221.8939 1567.3841 0.2271084\n",
       "breast-bronchus  1184.32086  455.2962 1913.3455 0.0002385\n",
       "ovary-colon       426.92157 -467.7174 1321.5606 0.6659115\n",
       "breast-colon      938.49733  209.4727 1667.5220 0.0053072\n",
       "breast-ovary      511.57576 -444.5973 1467.7488 0.5630900\n"
      ]
     },
     "metadata": {},
     "output_type": "display_data"
    }
   ],
   "source": [
    "TukeyHSD(M)"
   ]
  },
  {
   "cell_type": "code",
   "execution_count": 28,
   "metadata": {},
   "outputs": [
    {
     "data": {
      "image/png": "[encoded data removed]",
      "text/plain": [
       "Plot with title \"95% family-wise confidence level\n",
       "\""
      ]
     },
     "metadata": {},
     "output_type": "display_data"
    }
   ],
   "source": [
    "plot(TukeyHSD(M))"
   ]
  },
  {
   "cell_type": "markdown",
   "metadata": {},
   "source": [
    "__8.6 (Comparing waste at different manufacturing plants).__ <br> The ‘Waste\n",
    "Run-up’ data ([28, p. 86], [12]) is available at the DASL web site. The data\n",
    "are weekly percentage waste of cloth by five different supplier plants of LeviStrauss, relative to cutting from a computer pattern. The question here is\n",
    "whether the five supplier plants differ in waste run-up. The data has been\n",
    "saved in a text file “wasterunup.txt”. The five columns correspond to the five\n",
    "different manufacturing plants. The number of values in each column differs\n",
    "and the empty positions are filled with the symbol \\*. Use na.strings=\"\\*\"\n",
    "in read.table to convert these to NA and use stack to reformat the data in\n",
    "a one-way layout. (Also see Example 10.1.) <br> <br>\n",
    "Display side-by-side (parallel) boxplots of the data. Are any outliers in the\n",
    "data? Construct an ANOVA table using lm or aov. Plot residuals vs fits, and\n",
    "also construct a Normal-QQ plot of residuals using qqnorm and qqline. Do\n",
    "the residuals appear to satisfy the iid Normal(0,σ2) assumptions required for\n",
    "valid inference?"
   ]
  },
  {
   "cell_type": "code",
   "execution_count": 44,
   "metadata": {},
   "outputs": [
    {
     "data": {
      "image/png": "[encoded data removed]",
      "text/plain": [
       "plot without title"
      ]
     },
     "metadata": {},
     "output_type": "display_data"
    }
   ],
   "source": [
    "waste = read.table(file = \"wasterunup.txt\", header = TRUE, na.strings = \"*\")\n",
    "waste = stack(waste)\n",
    "boxplot(waste$values ~ waste$ind)"
   ]
  },
  {
   "cell_type": "code",
   "execution_count": 48,
   "metadata": {},
   "outputs": [
    {
     "data": {
      "text/plain": [
       "Call:\n",
       "   aov(formula = L)\n",
       "\n",
       "Terms:\n",
       "                waste$ind Residuals\n",
       "Sum of Squares    450.921  8749.088\n",
       "Deg. of Freedom         4        90\n",
       "\n",
       "Residual standard error: 9.859619\n",
       "Estimated effects may be unbalanced\n",
       "15 observations deleted due to missingness"
      ]
     },
     "metadata": {},
     "output_type": "display_data"
    },
    {
     "data": {
      "text/plain": [
       "            Df Sum Sq Mean Sq F value Pr(>F)\n",
       "waste$ind    4    451  112.73    1.16  0.334\n",
       "Residuals   90   8749   97.21               \n",
       "15 observations deleted due to missingness"
      ]
     },
     "metadata": {},
     "output_type": "display_data"
    }
   ],
   "source": [
    "L = lm(waste$values ~ waste$ind)\n",
    "aov(L)\n",
    "summary(aov(L))"
   ]
  },
  {
   "cell_type": "code",
   "execution_count": 49,
   "metadata": {},
   "outputs": [
    {
     "data": {
      "image/png": "[encoded data removed]",
      "text/plain": [
       "plot without title"
      ]
     },
     "metadata": {},
     "output_type": "display_data"
    },
    {
     "data": {
      "image/png": "[encoded data removed]",
      "text/plain": [
       "Plot with title \"Normal Q-Q Plot\""
      ]
     },
     "metadata": {},
     "output_type": "display_data"
    }
   ],
   "source": [
    "plot(L$fit, L$res)\n",
    "abline(h=0, lwd = 2, col = \"red\")\n",
    "qqnorm(L$res)\n",
    "qqline(L$res)"
   ]
  },
  {
   "cell_type": "code",
   "execution_count": null,
   "metadata": {},
   "outputs": [],
   "source": []
  }
 ],
 "metadata": {
  "kernelspec": {
   "display_name": "R",
   "language": "R",
   "name": "ir"
  },
  "language_info": {
   "codemirror_mode": "r",
   "file_extension": ".r",
   "mimetype": "text/x-r-source",
   "name": "R",
   "pygments_lexer": "r",
   "version": "3.4.3"
  }
 },
 "nbformat": 4,
 "nbformat_minor": 2
}
